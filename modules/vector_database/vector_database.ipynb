{
 "cells": [
  {
   "cell_type": "code",
   "execution_count": 18,
   "metadata": {},
   "outputs": [],
   "source": [
    "from langchain.chains import RetrievalQA\n",
    "from langchain.document_loaders import TextLoader\n",
    "from langchain.embeddings.openai import OpenAIEmbeddings\n",
    "from langchain.llms import OpenAI\n",
    "from langchain.text_splitter import CharacterTextSplitter\n",
    "from langchain.vectorstores import Chroma"
   ]
  },
  {
   "cell_type": "code",
   "execution_count": 55,
   "metadata": {},
   "outputs": [],
   "source": [
    "from langchain.document_loaders import BSHTMLLoader\n",
    "from langchain.document_loaders.srt import SRTLoader\n",
    "import requests\n",
    "from bs4 import BeautifulSoup\n",
    "import re\n",
    "\n",
    "url = \"https://www.pgs.com/company/about-us/leadership-principles/\"\n",
    "req = requests.get(url)\n",
    "html = BeautifulSoup(req.text, \"html.parser\")\n",
    "# Get only the text and remove extra whitespace\n",
    "text = ' '.join(html.stripped_strings)\n",
    "\n",
    "# Remove special characters and numbers\n",
    "#text = re.sub(r'[^a-zA-Z\\s]', '', text)\n",
    "\n",
    "# # loader = BSHTMLLoader(html)\n",
    "# data = loader.load()"
   ]
  },
  {
   "cell_type": "code",
   "execution_count": 63,
   "metadata": {},
   "outputs": [
    {
     "data": {
      "text/plain": [
       "\"Leadership Principles | PGS\\nMenu\\nData Library\\nInteractive Map\\nNorth and South America\\nEurope\\nAfrica & Mediterranean\\nAsia Pacific\\nHotspots\\nAngola\\nBrazil Campos Basin\\nBrazil Santos Basin\\nEastern Mediterranean\\nNewfoundland & Labrador\\nNorwegian Sea\\nSabah & Sarawak\\nUruguay\\nSurvey Types\\nGeoStreamer X\\nGeoStreamer PURE\\n3D Vision\\nMegaSurvey\\nMegaSurveyPlus\\nMegaProject\\nPGS Access\\nrockAVO\\nDigital Access\\nVersal\\nCase Studies\\nMarine Acquisition\\nThe PGS Fleet\\nSeismic Vessels\\nBarnacle Mitigation\\nDigitalization and Digital Twins\\nRamform Story\\nGeoStreamer\\nSeparated Wavefields\\nSteerable Streamers\\nGeoStreamer Data for Subsurface Characterization\\nGeoStreamer X and Beyond\\nGeoStreamer X\\nRicher Azimuth Geometries\\nExtended Long Offsets (ELO) Surveys\\nStreamers and Nodes\\nSources\\nSources\\nMulti-Source Solutions\\nSteerable Sources\\neSeismic\\nP-Cable\\nAcquisition Configurations and Targets\\nSite Surveys for Offshore Wind Farms\\nSeafloor Multiphysics & CSEM\\nAUV Operations\\nHigh-resolution Magnetic Mapping\\nElectric and Electromagnetic Surveys\\nDesign a Survey\\nNucleus+\\nTemporal and Spatial Sampling\\nOffset Sampling\\nAzimuth Sampling\\nEnvironmental Emissions\\n4D Survey Design\\nImaging & Characterization\\nModel Building\\nFull Waveform Inversion\\nTomographic Solutions\\nQ Imaging\\nCharacterization\\nRock Physics\\xa0Analysis\\nData Conditioning\\nOne-Step Inversion\\nDeterministic\\xa0Inversion\\nCCS Characterization\\nCCS Site Selection\\nCarbon Storage | Webinar\\nCO2 Site Characterization | Webinar\\nImaging\\nLeast-Squares Migration\\nReverse Time Migration\\nSWIM & Full Wavefield Migration\\nPGS Ultima\\nPGS Ultima Canada\\nPGS Ultima | Webinar\\nProcessing\\nSeparated Wavefields\\nDemultiple\\nDesignature & Deghosting\\nDeblending\\nRegularization\\nSubsurface Monitoring\\nRepeatable Acquisition\\n4D Survey Design\\nControl of receiver and source locations\\nDense Receiver Arrays for Maximum Repeatability\\nRemoval of Sea-surface Effects\\nP-Cable Ultra High Resolution\\nHybrid GeoStreamer-OBN\\n4D Reservoir\\xa0Imaging\\n4D Processing Workflows\\nDynamic\\xa0Warping\\nCold Water\\xa0Statics\\nBinning\\nSurvey\\xa0Matching\\nCCS Monitoring\\nCompany\\nAbout Us\\nContact Us\\nPGS at a Glance\\nVision, Mission and Values\\nLeadership Principles\\nCore Values\\nBoard and Management\\nCorporate Governance\\nSustainability\\nOur Impacts and Risks\\nOur Governance\\nOur Targets\\nOur Reports\\nESG Documents\\nInvestors\\nShare Information\\nReports & Results\\nPresentations\\nIR News & Announcements\\nDebt Financing\\nFinancial Calendar\\nGeneral Meetings\\nCareers\\nVacant Positions\\nData Scientists\\nOffshore Crew\\nGeophysicists\\nSuppliers\\nWorking for PGS\\nSupplier Qualification\\nResources\\nTechnical Library\\nCase Studies\\nReports & Results\\nFeatures\\nWebinar Library\\nPictures\\nNewsroom\\nNews\\nEvents\\nPictures\\nData Library\\nMarine Acquisition\\nImaging & Characterization\\nSubsurface Monitoring\\nCompany\\nPGS\\nCompany\\nAbout Us\\nLeadership Principles\\nPrevious\\nPeople\\nLeadership Principles\\nContact us\\nLeaders influence the attitudes and behaviors\\xa0of others to achieve a shared result.\\xa0At all levels of our organization, these principles strengthen\\xa0our culture and help us achieve our strategic ambitions.\\nInnovation & Learning\\n\\u200b\\nPGS leaders are courageous,\\nchallenge the status quo, try new things and embrace change.\\nWe create a\\nclimate of innovation and take intelligent and considered risks. Our leaders are curious and desire to\\ncontinually learn from successes and failures. We are proactive and open to the ideas of others. This means\\nembracing large and small ideas and finding ways to simplify and work in smarter ways.\\n\\u200b\\nCustomer Focus\\n\\u200b\\nPGS leaders focus on what is best for our customers and for the company.\\nWe understand who PGS is\\nserving and how to create value. Our leaders are result-oriented and understand the end customer. We as leaders\\nhave strong business acumen and are aware of how decisions impact financial results.\\n\\u200b\\nEmpowering\\nOthers\\nPGS leaders communicate a clear vision and goals, so that everyone knows how to contribute.\\n\\u200b\\nWe build trust and\\ncreate an environment of psychological safety.\\xa0Our leaders share credit and praise, making the teams' work\\nvisible. We as leaders empower others to deliver in their roles, creating ownership and accountability.\\n\\u200b\\nCollaboration & Transparency\\nPGS leaders build strong and diverse teams, bringing people together.\\xa0\\u200bWe stimulate collaboration and transparency across the organization. Our leaders listen to understand, ask questions and reinforce key messages to support momentum toward shared goals. \\u200b\\nCoaching & Feedback\\u200b\\nPGS leaders believe that everyone can grow and develop.\\xa0We actively support our team members through dialog, feedback, and coaching. We foster development and learning. Our leaders create an atmosphere where constructive feedback is appreciated and a natural part of our everyday collaboration. We nurture the habit of self-reflection in order to constantly improve and inspire the same within our team. \\u200b\\nOur leadership principles are underpinned by our values:\\xa0dedicated, reliable, and pioneer.\\nContact a PGS expert\\nIf you have questions related to our business please send us an email.\\nContact us\\nRelated content\\nMission, Vision and Values\\nBack to top\\nMSA Statement\\nPrivacy Statement\\nClient Area\\n©\\nPGS 2023\""
      ]
     },
     "execution_count": 63,
     "metadata": {},
     "output_type": "execute_result"
    }
   ],
   "source": [
    "'\\n'.join(html.stripped_strings)"
   ]
  },
  {
   "cell_type": "code",
   "execution_count": 64,
   "metadata": {},
   "outputs": [],
   "source": [
    "text_splitter = CharacterTextSplitter(chunk_size=1000, chunk_overlap=0, separator=\" \")\n",
    "chunks = text_splitter.split_text('\\n'.join(html.stripped_strings))"
   ]
  },
  {
   "cell_type": "code",
   "execution_count": 65,
   "metadata": {},
   "outputs": [
    {
     "data": {
      "text/plain": [
       "['Leadership Principles | PGS\\nMenu\\nData Library\\nInteractive Map\\nNorth and South America\\nEurope\\nAfrica & Mediterranean\\nAsia Pacific\\nHotspots\\nAngola\\nBrazil Campos Basin\\nBrazil Santos Basin\\nEastern Mediterranean\\nNewfoundland & Labrador\\nNorwegian Sea\\nSabah & Sarawak\\nUruguay\\nSurvey Types\\nGeoStreamer X\\nGeoStreamer PURE\\n3D Vision\\nMegaSurvey\\nMegaSurveyPlus\\nMegaProject\\nPGS Access\\nrockAVO\\nDigital Access\\nVersal\\nCase Studies\\nMarine Acquisition\\nThe PGS Fleet\\nSeismic Vessels\\nBarnacle Mitigation\\nDigitalization and Digital Twins\\nRamform Story\\nGeoStreamer\\nSeparated Wavefields\\nSteerable Streamers\\nGeoStreamer Data for Subsurface Characterization\\nGeoStreamer X and Beyond\\nGeoStreamer X\\nRicher Azimuth Geometries\\nExtended Long Offsets (ELO) Surveys\\nStreamers and Nodes\\nSources\\nSources\\nMulti-Source Solutions\\nSteerable Sources\\neSeismic\\nP-Cable\\nAcquisition Configurations and Targets\\nSite Surveys for Offshore Wind Farms\\nSeafloor Multiphysics & CSEM\\nAUV Operations\\nHigh-resolution Magnetic Mapping',\n",
       " 'Electric and Electromagnetic Surveys\\nDesign a Survey\\nNucleus+\\nTemporal and Spatial Sampling\\nOffset Sampling\\nAzimuth Sampling\\nEnvironmental Emissions\\n4D Survey Design\\nImaging & Characterization\\nModel Building\\nFull Waveform Inversion\\nTomographic Solutions\\nQ Imaging\\nCharacterization\\nRock Physics\\xa0Analysis\\nData Conditioning\\nOne-Step Inversion\\nDeterministic\\xa0Inversion\\nCCS Characterization\\nCCS Site Selection\\nCarbon Storage | Webinar\\nCO2 Site Characterization | Webinar\\nImaging\\nLeast-Squares Migration\\nReverse Time Migration\\nSWIM & Full Wavefield Migration\\nPGS Ultima\\nPGS Ultima Canada\\nPGS Ultima | Webinar\\nProcessing\\nSeparated Wavefields\\nDemultiple\\nDesignature & Deghosting\\nDeblending\\nRegularization\\nSubsurface Monitoring\\nRepeatable Acquisition\\n4D Survey Design\\nControl of receiver and source locations\\nDense Receiver Arrays for Maximum Repeatability\\nRemoval of Sea-surface Effects\\nP-Cable Ultra High Resolution\\nHybrid GeoStreamer-OBN\\n4D Reservoir\\xa0Imaging\\n4D Processing Workflows\\nDynamic\\xa0Warping',\n",
       " 'Cold Water\\xa0Statics\\nBinning\\nSurvey\\xa0Matching\\nCCS Monitoring\\nCompany\\nAbout Us\\nContact Us\\nPGS at a Glance\\nVision, Mission and Values\\nLeadership Principles\\nCore Values\\nBoard and Management\\nCorporate Governance\\nSustainability\\nOur Impacts and Risks\\nOur Governance\\nOur Targets\\nOur Reports\\nESG Documents\\nInvestors\\nShare Information\\nReports & Results\\nPresentations\\nIR News & Announcements\\nDebt Financing\\nFinancial Calendar\\nGeneral Meetings\\nCareers\\nVacant Positions\\nData Scientists\\nOffshore Crew\\nGeophysicists\\nSuppliers\\nWorking for PGS\\nSupplier Qualification\\nResources\\nTechnical Library\\nCase Studies\\nReports & Results\\nFeatures\\nWebinar Library\\nPictures\\nNewsroom\\nNews\\nEvents\\nPictures\\nData Library\\nMarine Acquisition\\nImaging & Characterization\\nSubsurface Monitoring\\nCompany\\nPGS\\nCompany\\nAbout Us\\nLeadership Principles\\nPrevious\\nPeople\\nLeadership Principles\\nContact us',\n",
       " 'Leaders influence the attitudes and behaviors\\xa0of others to achieve a shared result.\\xa0At all levels of our organization, these principles strengthen\\xa0our culture and help us achieve our strategic ambitions.\\nInnovation & Learning\\n\\u200b\\nPGS leaders are courageous,\\nchallenge the status quo, try new things and embrace change.\\nWe create a\\nclimate of innovation and take intelligent and considered risks. Our leaders are curious and desire to\\ncontinually learn from successes and failures. We are proactive and open to the ideas of others. This means\\nembracing large and small ideas and finding ways to simplify and work in smarter ways.\\n\\u200b\\nCustomer Focus\\n\\u200b\\nPGS leaders focus on what is best for our customers and for the company.\\nWe understand who PGS is\\nserving and how to create value. Our leaders are result-oriented and understand the end customer. We as leaders\\nhave strong business acumen and are aware of how decisions impact financial results.\\n\\u200b\\nEmpowering\\nOthers',\n",
       " \"PGS leaders communicate a clear vision and goals, so that everyone knows how to contribute.\\n\\u200b\\nWe build trust and\\ncreate an environment of psychological safety.\\xa0Our leaders share credit and praise, making the teams' work\\nvisible. We as leaders empower others to deliver in their roles, creating ownership and accountability.\\n\\u200b\\nCollaboration & Transparency\\nPGS leaders build strong and diverse teams, bringing people together.\\xa0\\u200bWe stimulate collaboration and transparency across the organization. Our leaders listen to understand, ask questions and reinforce key messages to support momentum toward shared goals. \\u200b\\nCoaching & Feedback\\u200b\",\n",
       " 'PGS leaders believe that everyone can grow and develop.\\xa0We actively support our team members through dialog, feedback, and coaching. We foster development and learning. Our leaders create an atmosphere where constructive feedback is appreciated and a natural part of our everyday collaboration. We nurture the habit of self-reflection in order to constantly improve and inspire the same within our team. \\u200b\\nOur leadership principles are underpinned by our values:\\xa0dedicated, reliable, and pioneer.\\nContact a PGS expert\\nIf you have questions related to our business please send us an email.\\nContact us\\nRelated content\\nMission, Vision and Values\\nBack to top\\nMSA Statement\\nPrivacy Statement\\nClient Area\\n©\\nPGS 2023']"
      ]
     },
     "execution_count": 65,
     "metadata": {},
     "output_type": "execute_result"
    }
   ],
   "source": [
    "chunks"
   ]
  },
  {
   "cell_type": "code",
   "execution_count": null,
   "metadata": {},
   "outputs": [],
   "source": [
    "loader = TextLoader(\"../../state_of_the_union.txt\")\n",
    "documents = loader.load()\n",
    "text_splitter = CharacterTextSplitter(chunk_size=1000, chunk_overlap=0)\n",
    "texts = text_splitter.split_documents(documents)\n",
    "\n",
    "embeddings = OpenAIEmbeddings()\n",
    "docsearch = Chroma.from_documents(texts, embeddings)\n",
    "\n",
    "qa = RetrievalQA.from_chain_type(llm=OpenAI(), chain_type=\"stuff\", retriever=docsearch.as_retriever())"
   ]
  },
  {
   "cell_type": "code",
   "execution_count": null,
   "metadata": {},
   "outputs": [],
   "source": [
    "from langchain.document_loaders import BSHTMLLoader\n",
    "\n",
    "loader = BSHTMLLoader(url)\n",
    "docs = loader.load()"
   ]
  },
  {
   "cell_type": "code",
   "execution_count": 52,
   "metadata": {},
   "outputs": [
    {
     "name": "stderr",
     "output_type": "stream",
     "text": [
      "libmagic is unavailable but assists in filetype detection on file-like objects. Please consider installing libmagic for better results.\n",
      "Error fetching or processing https://www.pgs.com/company/about-us/leadership-principles/, exception: Invalid file. The FileType.UNK file type is not supported in partition.\n"
     ]
    }
   ],
   "source": [
    "from langchain.document_loaders import UnstructuredURLLoader\n",
    "\n",
    "url = \"https://www.pgs.com/company/about-us/leadership-principles/\"\n",
    "\n",
    "loader = UnstructuredURLLoader([url])\n",
    "docs = loader.load()"
   ]
  },
  {
   "cell_type": "code",
   "execution_count": 2,
   "metadata": {},
   "outputs": [],
   "source": [
    "from scrape_utils import scrape_site"
   ]
  },
  {
   "cell_type": "code",
   "execution_count": 3,
   "metadata": {},
   "outputs": [
    {
     "name": "stderr",
     "output_type": "stream",
     "text": [
      "Some characters could not be decoded, and were replaced with REPLACEMENT CHARACTER.\n",
      "Some characters could not be decoded, and were replaced with REPLACEMENT CHARACTER.\n",
      "Some characters could not be decoded, and were replaced with REPLACEMENT CHARACTER.\n",
      "Some characters could not be decoded, and were replaced with REPLACEMENT CHARACTER.\n",
      "Some characters could not be decoded, and were replaced with REPLACEMENT CHARACTER.\n",
      "Some characters could not be decoded, and were replaced with REPLACEMENT CHARACTER.\n",
      "Some characters could not be decoded, and were replaced with REPLACEMENT CHARACTER.\n",
      "Some characters could not be decoded, and were replaced with REPLACEMENT CHARACTER.\n",
      "Some characters could not be decoded, and were replaced with REPLACEMENT CHARACTER.\n",
      "Some characters could not be decoded, and were replaced with REPLACEMENT CHARACTER.\n",
      "Some characters could not be decoded, and were replaced with REPLACEMENT CHARACTER.\n",
      "Some characters could not be decoded, and were replaced with REPLACEMENT CHARACTER.\n",
      "Some characters could not be decoded, and were replaced with REPLACEMENT CHARACTER.\n",
      "Some characters could not be decoded, and were replaced with REPLACEMENT CHARACTER.\n",
      "Some characters could not be decoded, and were replaced with REPLACEMENT CHARACTER.\n",
      "Some characters could not be decoded, and were replaced with REPLACEMENT CHARACTER.\n",
      "Some characters could not be decoded, and were replaced with REPLACEMENT CHARACTER.\n",
      "Some characters could not be decoded, and were replaced with REPLACEMENT CHARACTER.\n",
      "Some characters could not be decoded, and were replaced with REPLACEMENT CHARACTER.\n",
      "Some characters could not be decoded, and were replaced with REPLACEMENT CHARACTER.\n",
      "Some characters could not be decoded, and were replaced with REPLACEMENT CHARACTER.\n",
      "Some characters could not be decoded, and were replaced with REPLACEMENT CHARACTER.\n",
      "Some characters could not be decoded, and were replaced with REPLACEMENT CHARACTER.\n",
      "Some characters could not be decoded, and were replaced with REPLACEMENT CHARACTER.\n"
     ]
    }
   ],
   "source": [
    "scrape_site('https://www.pgs.com', 10)"
   ]
  },
  {
   "cell_type": "code",
   "execution_count": 1,
   "metadata": {},
   "outputs": [
    {
     "name": "stderr",
     "output_type": "stream",
     "text": [
      "100%|██████████| 262/262 [00:27<00:00,  9.43it/s]\n"
     ]
    }
   ],
   "source": [
    "from embed import embed\n",
    "embed()"
   ]
  },
  {
   "cell_type": "code",
   "execution_count": 4,
   "metadata": {},
   "outputs": [
    {
     "ename": "",
     "evalue": "",
     "output_type": "error",
     "traceback": [
      "\u001b[1;31mThe Kernel crashed while executing code in the the current cell or a previous cell. Please review the code in the cell(s) to identify a possible cause of the failure. Click <a href='https://aka.ms/vscodeJupyterKernelCrash'>here</a> for more info. View Jupyter <a href='command:jupyter.viewOutput'>log</a> for further details."
     ]
    }
   ],
   "source": [
    "if None:\n",
    "    print('yes')"
   ]
  }
 ],
 "metadata": {
  "kernelspec": {
   "display_name": "eve-project-F2_FL2MM-py3.10",
   "language": "python",
   "name": "python3"
  },
  "language_info": {
   "codemirror_mode": {
    "name": "ipython",
    "version": 3
   },
   "file_extension": ".py",
   "mimetype": "text/x-python",
   "name": "python",
   "nbconvert_exporter": "python",
   "pygments_lexer": "ipython3",
   "version": "3.10.10"
  }
 },
 "nbformat": 4,
 "nbformat_minor": 2
}
