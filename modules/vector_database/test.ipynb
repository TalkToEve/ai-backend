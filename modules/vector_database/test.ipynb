{
 "cells": [
  {
   "cell_type": "code",
   "execution_count": 1,
   "metadata": {},
   "outputs": [
    {
     "name": "stderr",
     "output_type": "stream",
     "text": [
      "c:\\Users\\Pc\\AppData\\Local\\pypoetry\\Cache\\virtualenvs\\eve-project-13oD41wO-py3.10\\lib\\site-packages\\tqdm\\auto.py:21: TqdmWarning: IProgress not found. Please update jupyter and ipywidgets. See https://ipywidgets.readthedocs.io/en/stable/user_install.html\n",
      "  from .autonotebook import tqdm as notebook_tqdm\n"
     ]
    }
   ],
   "source": [
    "from vector_database import *"
   ]
  },
  {
   "cell_type": "code",
   "execution_count": 2,
   "metadata": {},
   "outputs": [
    {
     "name": "stderr",
     "output_type": "stream",
     "text": [
      "100%|██████████| 1/1 [00:09<00:00,  9.56s/it]\n"
     ]
    }
   ],
   "source": [
    "pdfs_folder_path = 'pdfs'\n",
    "db_path = './pdftst'\n",
    "vector_creator = VectorCreator(pdfs_folder_path=pdfs_folder_path, db_path=db_path)\n",
    "vector_creator.create_from_pdfs()"
   ]
  },
  {
   "cell_type": "code",
   "execution_count": 9,
   "metadata": {},
   "outputs": [],
   "source": [
    "pdf_path = r'pdfs\\Anonymous_health_and_wellbeing_Survey.pdf'\n",
    "\n",
    "import pypdf\n",
    "pdf = pypdf.PdfReader(open(pdf_path, 'rb'))"
   ]
  },
  {
   "cell_type": "code",
   "execution_count": 15,
   "metadata": {},
   "outputs": [
    {
     "name": "stdout",
     "output_type": "stream",
     "text": [
      "Anonymous health and wellbeing  \n",
      "Survey Y2 2023  \n",
      "The survey will take approximately 4 minutes to complete.\n",
      "This is anonymous , your answers is not linked to your email address.  This to ensure  \n",
      "confidentiality.\n",
      "Officer / Chief / SL\n",
      "Operator / Rating\n",
      "OtherWhat is your position?1.\n"
     ]
    }
   ],
   "source": [
    "print(pdf.pages[0].extract_text())"
   ]
  },
  {
   "cell_type": "code",
   "execution_count": 183,
   "metadata": {},
   "outputs": [
    {
     "data": {
      "text/plain": [
       "'This content is neither created nor endorsed by Microsoft. The data you submit will be sent to the form owner.\\nMicrosoft FormsNot true at all\\nRarely true\\nSometimes true\\nOften true\\nTrue nearly all the timeI am able to adapt when changes occur30.\\nNot true at all\\nRarely true\\nSometimes true\\nOften true\\nTrue nearly all the timeI tend to bounce back after illness, injury or other hardships31.'"
      ]
     },
     "execution_count": 183,
     "metadata": {},
     "output_type": "execute_result"
    }
   ],
   "source": [
    "pages = [pdf.pages[i].extract_text() for i in range(len(pdf.pages))]\n",
    "pages[0] = pages[0][213:]\n",
    "# delete pages[-1]\n",
    "pages.pop(-1)"
   ]
  },
  {
   "cell_type": "code",
   "execution_count": 243,
   "metadata": {},
   "outputs": [],
   "source": [
    "import re\n",
    "\n",
    "def separate_questions_answers(text):\n",
    "    pattern = r'([A-Z].*?)\\d+\\.'  # Patrón actualizado para coincidir con preguntas\n",
    "    matches = re.findall(pattern, text)\n",
    "\n",
    "    ixq = [[i for i, letter in enumerate(matches[j]) if letter.isupper()][-1] for j, _ in enumerate(matches)]\n",
    "    questions = [question[ixq[j]:] for j, question in enumerate(matches)]    \n",
    "    \n",
    "    answers = []\n",
    "    splited = text.split('\\n')\n",
    "    # lines that contain a question\n",
    "    idx_questions = [i for i, line in enumerate(splited) if any(question in line for question in questions)]\n",
    "\n",
    "    for i, question in enumerate(questions):\n",
    "        if i == 0:\n",
    "            ans = splited[:idx_questions[i]]\n",
    "            ans.append(splited[idx_questions[i]].split(question)[0])\n",
    "        else:\n",
    "            ans = splited[idx_questions[i-1]+1:idx_questions[i]]\n",
    "            ans.append(splited[idx_questions[i]].split(question)[0])\n",
    "\n",
    "        answers.append(ans)\n",
    "\n",
    "    return questions, answers\n"
   ]
  },
  {
   "cell_type": "code",
   "execution_count": 244,
   "metadata": {},
   "outputs": [],
   "source": [
    "questions = []\n",
    "answers = []\n",
    "\n",
    "for page in pages:\n",
    "    fixed_page = [line if len(line)<74 else (line if (i==len(line) or i+1>=len(page.split('\\n'))) else line + page.split('\\n')[i+1]) for i, line in enumerate(page.split('\\n'))]\n",
    "    itst = [i+1 for i, line in enumerate(fixed_page) if len(line)>70]\n",
    "    # elimino los elementos con indices itst\n",
    "    fixed_page = [line for i, line in enumerate(fixed_page) if i not in itst]\n",
    "    fixed_page = [re.sub(r'\\s{2,}', '', line) for line in fixed_page]\n",
    "    fixed_page = '\\n'.join(fixed_page)\n",
    "    q, a = separate_questions_answers(fixed_page)\n",
    "    questions.extend(q)\n",
    "    answers.extend(a)"
   ]
  },
  {
   "cell_type": "code",
   "execution_count": 237,
   "metadata": {},
   "outputs": [
    {
     "data": {
      "text/plain": [
       "['What is your position?',\n",
       " 'What is your age?',\n",
       " 'What shift are you on?',\n",
       " 'How many years of seismic offshore experience do you have?',\n",
       " 'Which vessel do you work on?',\n",
       " 'How many hours per day (on - and off shift) do you spend sitting orphysically inactive?',\n",
       " 'How often do you go outside to get some fresh air during a day?',\n",
       " 'How often do you do exercise in your time off per week?',\n",
       " 'How many servings of fruit and vegetables do you usually eat per day (athome and at work)?',\n",
       " 'How many days a week do you usually eat fast food or food that is highin fat and salt (at home and at work)?',\n",
       " 'When was the last time you had your cholesterol measured?',\n",
       " 'When was the last time you had your blood pressuremeasured?',\n",
       " 'I feel unwell.',\n",
       " 'In the last month, how often have you felt confident about your ability tohandle your personal problems?',\n",
       " 'In the last month, how often have you felt that things were going yourway?',\n",
       " 'In the last month, how often have you felt difficulties were piling up sohigh that you could not overcome them?',\n",
       " 'How often do you socialize with you colleagues off shift?',\n",
       " 'Welfare and sports offerings onboard are good? ',\n",
       " 'I feel distressed or down.',\n",
       " 'S',\n",
       " 'How often have you felt unsafe at work during the last 6 mmonths?',\n",
       " 'I see anything unsafe',\n",
       " 'How often do you feel a rush to complete a job quickly?',\n",
       " 'How often are you distracted or find it difficult to concentrate?',\n",
       " 'I usually get the following hours of sleep']"
      ]
     },
     "execution_count": 237,
     "metadata": {},
     "output_type": "execute_result"
    }
   ],
   "source": [
    "questions"
   ]
  },
  {
   "cell_type": "code",
   "execution_count": 245,
   "metadata": {},
   "outputs": [
    {
     "data": {
      "text/plain": [
       "[['Officer / Chief / SL', 'Operator / Rating', 'Other'],\n",
       " ['Under 24', '25 - 34', '35 - 44', '45 - 54', 'Over 55'],\n",
       " ['00 - 12', '12 - 24', 'Dayshift', 'Other'],\n",
       " ['1 year or less',\n",
       "  '2 - 4 years',\n",
       "  '5 - 9 years',\n",
       "  '10 - 15 years',\n",
       "  'Over 15 years'],\n",
       " ['Tethys',\n",
       "  'Sovereign',\n",
       "  'Vanguard',\n",
       "  'Atlas',\n",
       "  'Hyperion',\n",
       "  'Tansa',\n",
       "  'Apollo',\n",
       "  'Swift',\n",
       "  'Victory'],\n",
       " ['Less than 2 hrs', '3 - 4 hrs', '5 - 7 hrs', '8 - 11 hrs', 'Over 11 hrs'],\n",
       " ['Never', 'Almost never', 'Sometimes', 'Fairly often', 'Very often'],\n",
       " ['Never',\n",
       "  '0 - 60 minutes',\n",
       "  '61 - 100 minutes',\n",
       "  '101 - 149 minutes',\n",
       "  '150 - 300 minutes',\n",
       "  'More than 300 minutes'],\n",
       " ['1 or less', '2 servings', '3 servings', '4 servings', '5 or more'],\n",
       " ['None', '1', '2 - 3 times', '4 - 5 times', '5 or more'],\n",
       " ['Never', 'Last month', '6 months', '1 year', 'Over 2 years'],\n",
       " ['Last month', '6 months', '1 year', 'Over 2 years'],\n",
       " ['Strongly agree',\n",
       "  'Agree',\n",
       "  'Neutral',\n",
       "  'Disagree',\n",
       "  'Strongly disagreeI’m comfortable seeing the Medic if '],\n",
       " ['Never', 'Almost never', 'Sometimes', 'Fairly often', 'Very often'],\n",
       " ['Never', 'Almost never', 'Sometimes', 'Fairly often', 'Very often'],\n",
       " ['Never', 'Almost never', 'Sometimes', 'Fairly often', 'Very often'],\n",
       " ['Never', 'Almost never', 'Sometimes', 'Fairly often', 'Very often'],\n",
       " ['Strongly agree', 'Agree', 'Neutral', 'Disagree', 'Strongly disagree'],\n",
       " ['Strongly agree'],\n",
       " ['Agree', 'Neutral', 'Disagree', ''],\n",
       " ['Never', 'Almost never', 'Sometimes', 'Fairly often', 'Very often'],\n",
       " ['Strongly agree',\n",
       "  'Agree',\n",
       "  'Neutral',\n",
       "  'Disagree',\n",
       "  \"Strongly disagreeI don't\\xa0have a problem stopping the job if \"],\n",
       " ['Never', 'Almost never', 'Sometimes', 'Fairly often', 'Very often'],\n",
       " ['Never', 'Almost never', 'Sometimes', 'Fairly often', 'Very often'],\n",
       " ['0-2', '3-4', '5-6', '7-8', '9-10On an average day, ']]"
      ]
     },
     "execution_count": 245,
     "metadata": {},
     "output_type": "execute_result"
    }
   ],
   "source": [
    "answers"
   ]
  },
  {
   "cell_type": "code",
   "execution_count": 238,
   "metadata": {},
   "outputs": [
    {
     "data": {
      "text/plain": [
       "25"
      ]
     },
     "execution_count": 238,
     "metadata": {},
     "output_type": "execute_result"
    }
   ],
   "source": [
    "len(questions)"
   ]
  },
  {
   "cell_type": "code",
   "execution_count": 145,
   "metadata": {},
   "outputs": [
    {
     "data": {
      "text/plain": [
       "76"
      ]
     },
     "execution_count": 145,
     "metadata": {},
     "output_type": "execute_result"
    }
   ],
   "source": [
    "len(pages[4].split('\\n')[5])"
   ]
  },
  {
   "cell_type": "code",
   "execution_count": 146,
   "metadata": {},
   "outputs": [
    {
     "data": {
      "text/plain": [
       "83"
      ]
     },
     "execution_count": 146,
     "metadata": {},
     "output_type": "execute_result"
    }
   ],
   "source": [
    "len(pages[4].split('\\n')[11])"
   ]
  },
  {
   "cell_type": "code",
   "execution_count": 225,
   "metadata": {},
   "outputs": [],
   "source": [
    "fixed_page = [line if len(line)<75 else (line if (i==len(line) or i+1>=len(pages[4].split('\\n'))) else line + pages[4].split('\\n')[i+1]) for i, line in enumerate(pages[4].split('\\n'))]\n",
    "itst = [i+1 for i, line in enumerate(fixed_page) if len(line)>70]\n",
    "# elimino los elementos con indices itst\n",
    "fixed_page = [line for i, line in enumerate(fixed_page) if i not in itst]\n",
    "fixed_page = [re.sub(r'\\s{2,}', '', line) for line in fixed_page]"
   ]
  },
  {
   "cell_type": "code",
   "execution_count": 226,
   "metadata": {},
   "outputs": [
    {
     "data": {
      "text/plain": [
       "['Never',\n",
       " '0 - 60 minutes',\n",
       " '61 - 100 minutes',\n",
       " '101 - 149 minutes',\n",
       " '150 - 300 minutes',\n",
       " 'More than 300 minutesHow often do you do exercise in your time off per week?8.',\n",
       " '1 or less',\n",
       " '2 servings',\n",
       " '3 servings',\n",
       " '4 servings',\n",
       " '5 or moreHow many servings of fruit and vegetables do you usually eat per day (athome and at work)?9.']"
      ]
     },
     "execution_count": 226,
     "metadata": {},
     "output_type": "execute_result"
    }
   ],
   "source": [
    "fixed_page"
   ]
  },
  {
   "cell_type": "code",
   "execution_count": 150,
   "metadata": {},
   "outputs": [
    {
     "data": {
      "text/plain": [
       "[6, 12]"
      ]
     },
     "execution_count": 150,
     "metadata": {},
     "output_type": "execute_result"
    }
   ],
   "source": [
    "itst"
   ]
  },
  {
   "cell_type": "code",
   "execution_count": 148,
   "metadata": {},
   "outputs": [
    {
     "data": {
      "text/plain": [
       "['Never',\n",
       " '0 - 60 minutes',\n",
       " '61 - 100 minutes',\n",
       " '101 - 149 minutes',\n",
       " '150 - 300 minutes',\n",
       " 'More than 300 minutesHow often do you do exercise in your time off per week?      8.',\n",
       " '      8.',\n",
       " '1 or less',\n",
       " '2 servings',\n",
       " '3 servings',\n",
       " '4 servings',\n",
       " '5 or moreHow many servings of fruit and vegetables do you usually eat per day (at  home and at work)?9.',\n",
       " 'home and at work)?9.']"
      ]
     },
     "execution_count": 148,
     "metadata": {},
     "output_type": "execute_result"
    }
   ],
   "source": [
    "fixed_page"
   ]
  },
  {
   "cell_type": "code",
   "execution_count": 160,
   "metadata": {},
   "outputs": [],
   "source": [
    "# uno tst con \\n\n",
    "fixed_page = '\\n'.join(fixed_page)"
   ]
  },
  {
   "cell_type": "code",
   "execution_count": 161,
   "metadata": {},
   "outputs": [
    {
     "data": {
      "text/plain": [
       "'Never\\n0 - 60 minutes\\n61 - 100 minutes\\n101 - 149 minutes\\n150 - 300 minutes\\nMore than 300 minutesHow often do you do exercise in your time off per week?8.\\n1 or less\\n2 servings\\n3 servings\\n4 servings\\n5 or moreHow many servings of fruit and vegetables do you usually eat per day (athome and at work)?9.'"
      ]
     },
     "execution_count": 161,
     "metadata": {},
     "output_type": "execute_result"
    }
   ],
   "source": [
    "fixed_page"
   ]
  },
  {
   "cell_type": "code",
   "execution_count": 227,
   "metadata": {},
   "outputs": [
    {
     "data": {
      "text/plain": [
       "(['I usually get the following hours of sleep'],\n",
       " [['Never',\n",
       "   'Almost never',\n",
       "   'Sometimes',\n",
       "   'Fairly often',\n",
       "   'Very oftenHow often are you distracted or find it difficult to concentrate?',\n",
       "   '      28.',\n",
       "   '0-2',\n",
       "   '3-4',\n",
       "   '5-6',\n",
       "   '7-8',\n",
       "   '9-10On an average day, ']])"
      ]
     },
     "execution_count": 227,
     "metadata": {},
     "output_type": "execute_result"
    }
   ],
   "source": [
    "separate_questions_answers(pages[-1])"
   ]
  },
  {
   "cell_type": "code",
   "execution_count": 228,
   "metadata": {},
   "outputs": [
    {
     "name": "stdout",
     "output_type": "stream",
     "text": [
      "Never\n",
      "Almost never\n",
      "Sometimes\n",
      "Fairly often\n",
      "Very oftenHow often are you distracted or find it difficult to concentrate?\n",
      "      28.\n",
      "0-2\n",
      "3-4\n",
      "5-6\n",
      "7-8\n",
      "9-10On an average day, I usually get the following hours of sleep29.\n"
     ]
    }
   ],
   "source": [
    "print(pages[-1])"
   ]
  },
  {
   "cell_type": "code",
   "execution_count": 229,
   "metadata": {},
   "outputs": [
    {
     "data": {
      "text/plain": [
       "75"
      ]
     },
     "execution_count": 229,
     "metadata": {},
     "output_type": "execute_result"
    }
   ],
   "source": [
    "len(pages[-1].split('\\n')[4])"
   ]
  },
  {
   "cell_type": "code",
   "execution_count": 190,
   "metadata": {},
   "outputs": [],
   "source": [
    "fixed_page = [line if len(line)<76 else line + pages[-1].split('\\n')[i+1] for i, line in enumerate(pages[-1].split('\\n'))]\n",
    "itst = [i+1 for i, line in enumerate(fixed_page) if len(line)>70]\n",
    "# elimino los elementos con indices itst\n",
    "fixed_page = [line for i, line in enumerate(fixed_page) if i not in itst]\n",
    "fixed_page = [re.sub(r'\\s{2,}', '', line) for line in fixed_page]\n",
    "fixed_page = '\\n'.join(fixed_page)"
   ]
  },
  {
   "cell_type": "code",
   "execution_count": 204,
   "metadata": {},
   "outputs": [],
   "source": [
    "fixed_page = [line if len(line)<75 else line + pages[-1].split('\\n')[i+1] for i, line in enumerate(pages[-1].split('\\n'))]\n"
   ]
  },
  {
   "cell_type": "code",
   "execution_count": 203,
   "metadata": {},
   "outputs": [
    {
     "data": {
      "text/plain": [
       "75"
      ]
     },
     "execution_count": 203,
     "metadata": {},
     "output_type": "execute_result"
    }
   ],
   "source": [
    "len(pages[-1].split('\\n')[4])"
   ]
  },
  {
   "cell_type": "code",
   "execution_count": 205,
   "metadata": {},
   "outputs": [
    {
     "name": "stdout",
     "output_type": "stream",
     "text": [
      "['Never', 'Almost never', 'Sometimes', 'Fairly often', 'Very oftenHow often are you distracted or find it difficult to concentrate?      28.', '      28.', '0-2', '3-4', '5-6', '7-8', '9-10On an average day, I usually get the following hours of sleep29.']\n"
     ]
    }
   ],
   "source": [
    "print(fixed_page)"
   ]
  },
  {
   "cell_type": "code",
   "execution_count": null,
   "metadata": {},
   "outputs": [],
   "source": [
    "tt = {}\n",
    "tt"
   ]
  },
  {
   "cell_type": "code",
   "execution_count": 246,
   "metadata": {},
   "outputs": [
    {
     "ename": "TypeError",
     "evalue": "unhashable type: 'dict'",
     "output_type": "error",
     "traceback": [
      "\u001b[1;31m---------------------------------------------------------------------------\u001b[0m",
      "\u001b[1;31mTypeError\u001b[0m                                 Traceback (most recent call last)",
      "\u001b[1;32mc:\\Users\\Pc\\Documents\\Talk_to_Eve_mvp\\modules\\vector_database\\test.ipynb Cell 27\u001b[0m line \u001b[0;36m1\n\u001b[1;32m----> <a href='vscode-notebook-cell:/c%3A/Users/Pc/Documents/Talk_to_Eve_mvp/modules/vector_database/test.ipynb#Y123sZmlsZQ%3D%3D?line=0'>1</a>\u001b[0m tt \u001b[39m=\u001b[39m {{\u001b[39m'\u001b[39m\u001b[39mquestion\u001b[39m\u001b[39m'\u001b[39m: \u001b[39m'\u001b[39m\u001b[39mWhat is your position?\u001b[39m\u001b[39m'\u001b[39m, \u001b[39m'\u001b[39m\u001b[39manswers\u001b[39m\u001b[39m'\u001b[39m: [\u001b[39m'\u001b[39m\u001b[39mOfficer / Chief / SL\u001b[39m\u001b[39m'\u001b[39m, \u001b[39m'\u001b[39m\u001b[39mOperator / Rating\u001b[39m\u001b[39m'\u001b[39m, \u001b[39m'\u001b[39m\u001b[39mOther\u001b[39m\u001b[39m'\u001b[39m]},\n\u001b[0;32m      <a href='vscode-notebook-cell:/c%3A/Users/Pc/Documents/Talk_to_Eve_mvp/modules/vector_database/test.ipynb#Y123sZmlsZQ%3D%3D?line=1'>2</a>\u001b[0m  {\u001b[39m'\u001b[39m\u001b[39mquestion\u001b[39m\u001b[39m'\u001b[39m: \u001b[39m'\u001b[39m\u001b[39mWhat is your age?\u001b[39m\u001b[39m'\u001b[39m, \u001b[39m'\u001b[39m\u001b[39manswers\u001b[39m\u001b[39m'\u001b[39m: [\u001b[39m'\u001b[39m\u001b[39mUnder 24\u001b[39m\u001b[39m'\u001b[39m, \u001b[39m'\u001b[39m\u001b[39m25 - 34\u001b[39m\u001b[39m'\u001b[39m, \u001b[39m'\u001b[39m\u001b[39m35 - 44\u001b[39m\u001b[39m'\u001b[39m, \u001b[39m'\u001b[39m\u001b[39m45 - 54\u001b[39m\u001b[39m'\u001b[39m, \u001b[39m'\u001b[39m\u001b[39mOver 55\u001b[39m\u001b[39m'\u001b[39m]}}\n",
      "\u001b[1;31mTypeError\u001b[0m: unhashable type: 'dict'"
     ]
    }
   ],
   "source": [
    "{'question': 'What is your position?', 'answers': ['Officer / Chief / SL', 'Operator / Rating', 'Other']},\n",
    " {'question': 'What is your age?', 'answers': ['Under 24', '25 - 34', '35 - 44', '45 - 54', 'Over 55']}"
   ]
  }
 ],
 "metadata": {
  "kernelspec": {
   "display_name": "eve-project-13oD41wO-py3.10",
   "language": "python",
   "name": "python3"
  },
  "language_info": {
   "codemirror_mode": {
    "name": "ipython",
    "version": 3
   },
   "file_extension": ".py",
   "mimetype": "text/x-python",
   "name": "python",
   "nbconvert_exporter": "python",
   "pygments_lexer": "ipython3",
   "version": "3.10.10"
  }
 },
 "nbformat": 4,
 "nbformat_minor": 2
}
