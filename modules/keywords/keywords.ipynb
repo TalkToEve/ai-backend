{
 "cells": [
  {
   "cell_type": "code",
   "execution_count": 1,
   "metadata": {},
   "outputs": [
    {
     "name": "stderr",
     "output_type": "stream",
     "text": [
      "c:\\Users\\Pc\\AppData\\Local\\pypoetry\\Cache\\virtualenvs\\eve-project-13oD41wO-py3.10\\lib\\site-packages\\tqdm\\auto.py:21: TqdmWarning: IProgress not found. Please update jupyter and ipywidgets. See https://ipywidgets.readthedocs.io/en/stable/user_install.html\n",
      "  from .autonotebook import tqdm as notebook_tqdm\n"
     ]
    }
   ],
   "source": [
    "from keybert import KeyBERT\n",
    "import numpy as np"
   ]
  },
  {
   "cell_type": "code",
   "execution_count": 2,
   "metadata": {},
   "outputs": [],
   "source": [
    "kw_model = KeyBERT('all-MiniLM-L6-v2')"
   ]
  },
  {
   "cell_type": "code",
   "execution_count": 3,
   "metadata": {},
   "outputs": [],
   "source": [
    "# open txt file\n",
    "with open(r'C:\\Users\\Pc\\Documents\\Talk_to_Eve_mvp\\documents\\conversations_examples\\conversations.txt', 'r') as file:\n",
    "    text = file.read()\n",
    "\n",
    "text = text.split('\\n')\n",
    "# delete empty lines\n",
    "text = [x for x in text if x]\n",
    "folders_idx = [i for i, x in enumerate(text) if x.startswith('# Folder')]"
   ]
  },
  {
   "cell_type": "code",
   "execution_count": 4,
   "metadata": {},
   "outputs": [
    {
     "name": "stdout",
     "output_type": "stream",
     "text": [
      "257 33\n"
     ]
    }
   ],
   "source": [
    "pages = np.array([folders_idx[i+1] - folders_idx[i] for i in range(len(folders_idx)-1)])\n",
    "id_max, max_num =  np.argmax(pages), np.max(pages)\n",
    "print(id_max, max_num)"
   ]
  },
  {
   "cell_type": "code",
   "execution_count": 5,
   "metadata": {},
   "outputs": [
    {
     "data": {
      "text/plain": [
       "'# Folder: Depression - Example 1 OR 2 OR ... OR 6'"
      ]
     },
     "execution_count": 5,
     "metadata": {},
     "output_type": "execute_result"
    }
   ],
   "source": [
    "text[folders_idx[257]:folders_idx[258]][0]"
   ]
  },
  {
   "cell_type": "code",
   "execution_count": 6,
   "metadata": {},
   "outputs": [],
   "source": [
    "conversation = text[folders_idx[257]:folders_idx[258]][1:]"
   ]
  },
  {
   "cell_type": "code",
   "execution_count": 7,
   "metadata": {},
   "outputs": [
    {
     "data": {
      "text/plain": [
       "[\"User: Hey EVE. I'm feeling really down lately and I don't know what to do.\",\n",
       " \"EVE: I'm sorry to hear that. What's been going on?\",\n",
       " \"User: I don't know. Everything just seems pointless. I don't see the point in doing anything.\",\n",
       " 'EVE: That sounds very difficult. I can understand why you would feel that way.',\n",
       " \"User: Yeah. I just don't know what to do. I feel like I'm stuck.\"]"
      ]
     },
     "execution_count": 7,
     "metadata": {},
     "output_type": "execute_result"
    }
   ],
   "source": [
    "conversation[:5]"
   ]
  },
  {
   "cell_type": "code",
   "execution_count": 22,
   "metadata": {},
   "outputs": [],
   "source": [
    "from keyphrase_vectorizers import KeyphraseCountVectorizer"
   ]
  },
  {
   "cell_type": "code",
   "execution_count": 26,
   "metadata": {},
   "outputs": [
    {
     "ename": "ValueError",
     "evalue": "Empty keyphrases. Perhaps the documents do not contain keyphrases that match the 'pos_pattern' parameter, only contain stop words, or you set the 'min_df'/'max_df' parameters too strict.",
     "output_type": "error",
     "traceback": [
      "\u001b[1;31m---------------------------------------------------------------------------\u001b[0m",
      "\u001b[1;31mValueError\u001b[0m                                Traceback (most recent call last)",
      "\u001b[1;32mc:\\Users\\Pc\\Documents\\Talk_to_Eve_mvp\\modules\\keywords\\keywords.ipynb Cell 9\u001b[0m line \u001b[0;36m1\n\u001b[0;32m      <a href='vscode-notebook-cell:/c%3A/Users/Pc/Documents/Talk_to_Eve_mvp/modules/keywords/keywords.ipynb#Y113sZmlsZQ%3D%3D?line=7'>8</a>\u001b[0m embeddings \u001b[39m=\u001b[39m kw_model\u001b[39m.\u001b[39mextract_embeddings(row_kw[\u001b[39m-\u001b[39m\u001b[39m1\u001b[39m])\n\u001b[0;32m      <a href='vscode-notebook-cell:/c%3A/Users/Pc/Documents/Talk_to_Eve_mvp/modules/keywords/keywords.ipynb#Y113sZmlsZQ%3D%3D?line=8'>9</a>\u001b[0m emb\u001b[39m.\u001b[39mextend([i[\u001b[39m0\u001b[39m] \u001b[39mfor\u001b[39;00m i \u001b[39min\u001b[39;00m embeddings])\n\u001b[1;32m---> <a href='vscode-notebook-cell:/c%3A/Users/Pc/Documents/Talk_to_Eve_mvp/modules/keywords/keywords.ipynb#Y113sZmlsZQ%3D%3D?line=9'>10</a>\u001b[0m model_kw_kf \u001b[39m=\u001b[39m kw_model\u001b[39m.\u001b[39;49mextract_keywords(row, stop_words\u001b[39m=\u001b[39;49m[\u001b[39m'\u001b[39;49m\u001b[39meve\u001b[39;49m\u001b[39m'\u001b[39;49m, \u001b[39m'\u001b[39;49m\u001b[39muser\u001b[39;49m\u001b[39m'\u001b[39;49m], vectorizer\u001b[39m=\u001b[39;49mKeyphraseCountVectorizer(stop_words\u001b[39m=\u001b[39;49m[\u001b[39m'\u001b[39;49m\u001b[39meve\u001b[39;49m\u001b[39m'\u001b[39;49m, \u001b[39m'\u001b[39;49m\u001b[39muser\u001b[39;49m\u001b[39m'\u001b[39;49m]))\n\u001b[0;32m     <a href='vscode-notebook-cell:/c%3A/Users/Pc/Documents/Talk_to_Eve_mvp/modules/keywords/keywords.ipynb#Y113sZmlsZQ%3D%3D?line=10'>11</a>\u001b[0m row_kw_kf\u001b[39m.\u001b[39mextend([i[\u001b[39m0\u001b[39m] \u001b[39mfor\u001b[39;00m i \u001b[39min\u001b[39;00m model_kw_kf \u001b[39mif\u001b[39;00m i[\u001b[39m1\u001b[39m] \u001b[39m>\u001b[39m \u001b[39m0.4\u001b[39m])\n",
      "File \u001b[1;32mc:\\Users\\Pc\\AppData\\Local\\pypoetry\\Cache\\virtualenvs\\eve-project-13oD41wO-py3.10\\lib\\site-packages\\keybert\\_model.py:158\u001b[0m, in \u001b[0;36mKeyBERT.extract_keywords\u001b[1;34m(self, docs, candidates, keyphrase_ngram_range, stop_words, top_n, min_df, use_maxsum, use_mmr, diversity, nr_candidates, vectorizer, highlight, seed_keywords, doc_embeddings, word_embeddings, threshold)\u001b[0m\n\u001b[0;32m    156\u001b[0m \u001b[39m# Extract potential words using a vectorizer / tokenizer\u001b[39;00m\n\u001b[0;32m    157\u001b[0m \u001b[39mif\u001b[39;00m vectorizer:\n\u001b[1;32m--> 158\u001b[0m     count \u001b[39m=\u001b[39m vectorizer\u001b[39m.\u001b[39;49mfit(docs)\n\u001b[0;32m    159\u001b[0m \u001b[39melse\u001b[39;00m:\n\u001b[0;32m    160\u001b[0m     \u001b[39mtry\u001b[39;00m:\n",
      "File \u001b[1;32mc:\\Users\\Pc\\AppData\\Local\\pypoetry\\Cache\\virtualenvs\\eve-project-13oD41wO-py3.10\\lib\\site-packages\\keyphrase_vectorizers\\keyphrase_count_vectorizer.py:199\u001b[0m, in \u001b[0;36mKeyphraseCountVectorizer.fit\u001b[1;34m(self, raw_documents)\u001b[0m\n\u001b[0;32m    197\u001b[0m     \u001b[39mself\u001b[39m\u001b[39m.\u001b[39mmin_n_gram_length \u001b[39m=\u001b[39m \u001b[39mmin\u001b[39m([\u001b[39mlen\u001b[39m(keyphrase\u001b[39m.\u001b[39msplit()) \u001b[39mfor\u001b[39;00m keyphrase \u001b[39min\u001b[39;00m \u001b[39mself\u001b[39m\u001b[39m.\u001b[39mkeyphrases])\n\u001b[0;32m    198\u001b[0m \u001b[39melse\u001b[39;00m:\n\u001b[1;32m--> 199\u001b[0m     \u001b[39mraise\u001b[39;00m \u001b[39mValueError\u001b[39;00m(\n\u001b[0;32m    200\u001b[0m         \u001b[39m\"\u001b[39m\u001b[39mEmpty keyphrases. Perhaps the documents do not contain keyphrases that match the \u001b[39m\u001b[39m'\u001b[39m\u001b[39mpos_pattern\u001b[39m\u001b[39m'\u001b[39m\u001b[39m parameter, only contain stop words, or you set the \u001b[39m\u001b[39m'\u001b[39m\u001b[39mmin_df\u001b[39m\u001b[39m'\u001b[39m\u001b[39m/\u001b[39m\u001b[39m'\u001b[39m\u001b[39mmax_df\u001b[39m\u001b[39m'\u001b[39m\u001b[39m parameters too strict.\u001b[39m\u001b[39m\"\u001b[39m)\n\u001b[0;32m    202\u001b[0m \u001b[39mreturn\u001b[39;00m \u001b[39mself\u001b[39m\n",
      "\u001b[1;31mValueError\u001b[0m: Empty keyphrases. Perhaps the documents do not contain keyphrases that match the 'pos_pattern' parameter, only contain stop words, or you set the 'min_df'/'max_df' parameters too strict."
     ]
    }
   ],
   "source": [
    "row_kw = []\n",
    "row_kw_kf = []\n",
    "emb = []\n",
    "for row in conversation:\n",
    "    if row.startswith('User:'):\n",
    "        model_kw = kw_model.extract_keywords(row, keyphrase_ngram_range=(1, 3), stop_words=['eve', 'user'], use_mmr=True, diversity=0.5)\n",
    "        row_kw.extend([i[0] for i in model_kw if i[1] > 0.4])\n",
    "        embeddings = kw_model.extract_embeddings(row_kw[-1])\n",
    "        emb.extend([i[0] for i in embeddings])\n",
    "        model_kw_kf = kw_model.extract_keywords(row, stop_words=['eve', 'user'], vectorizer=KeyphraseCountVectorizer(stop_words=['eve', 'user']))\n",
    "        row_kw_kf.extend([i[0] for i in model_kw_kf if i[1] > 0.4])\n",
    "    "
   ]
  },
  {
   "cell_type": "code",
   "execution_count": 24,
   "metadata": {},
   "outputs": [
    {
     "data": {
      "text/plain": [
       "['feeling really down',\n",
       " 'just seems pointless',\n",
       " 'pointless don',\n",
       " 'doing anything',\n",
       " 'stuck',\n",
       " 'feel so lost',\n",
       " 'making plan',\n",
       " 'it will help',\n",
       " 'okay ll try',\n",
       " 'don know',\n",
       " 'don know',\n",
       " 'can call jamie',\n",
       " 'call',\n",
       " 'feeling little better',\n",
       " 'have plan',\n",
       " 'keep the plan',\n",
       " 'plan going',\n",
       " 'try to keep',\n",
       " 'have an assignment',\n",
       " 'topic should be',\n",
       " 'so many ideas',\n",
       " 'is the strongest',\n",
       " 'not an essay',\n",
       " 'list of ideas',\n",
       " 'okay will try',\n",
       " 'try that']"
      ]
     },
     "execution_count": 24,
     "metadata": {},
     "output_type": "execute_result"
    }
   ],
   "source": [
    "row_kw"
   ]
  },
  {
   "cell_type": "code",
   "execution_count": 25,
   "metadata": {},
   "outputs": [
    {
     "data": {
      "text/plain": [
       "['eve',\n",
       " 'user',\n",
       " 'user',\n",
       " 'plan',\n",
       " 'user',\n",
       " 'user',\n",
       " 'user',\n",
       " 'user',\n",
       " 'jamie',\n",
       " 'thanks eve',\n",
       " 'plan',\n",
       " 'user',\n",
       " 'assignment',\n",
       " 'topic',\n",
       " 'many ideas',\n",
       " 'essay',\n",
       " 'ideas',\n",
       " 'user']"
      ]
     },
     "execution_count": 25,
     "metadata": {},
     "output_type": "execute_result"
    }
   ],
   "source": [
    "row_kw_kf"
   ]
  },
  {
   "cell_type": "code",
   "execution_count": 9,
   "metadata": {},
   "outputs": [
    {
     "data": {
      "text/plain": [
       "[\"User: Hey EVE. I'm feeling really down lately and I don't know what to do.\",\n",
       " \"EVE: I'm sorry to hear that. What's been going on?\",\n",
       " \"User: I don't know. Everything just seems pointless. I don't see the point in doing anything.\",\n",
       " 'EVE: That sounds very difficult. I can understand why you would feel that way.',\n",
       " \"User: Yeah. I just don't know what to do. I feel like I'm stuck.\",\n",
       " \"EVE: Let's see if we can brainstorm some things that might help you feel better. What do you think might help?\",\n",
       " \"User: I don't know. I just feel so lost.\",\n",
       " 'EVE: Okay. Sometimes when people are feeling lost, it helps to have a plan. Do you think having a plan might help you feel better?',\n",
       " \"User: I don't know. I don't really see the point in making a plan if I don't know what I'm doing.\",\n",
       " \"EVE: That's understandable. But sometimes, even if we don't know what we're doing, having a plan can help us feel better because it gives us a sense of control. And sometimes, when we feel lost, all we need is a little bit of direction. So, do you think you might be willing to try making a plan?\",\n",
       " \"User: I don't know. I don't know if it will help.\",\n",
       " \"EVE: Why don't we try it and see? If it doesn't help, then we can try something else. But if it does help, then it will be worth it, right?\",\n",
       " \"User: Okay. I'll try it.\",\n",
       " 'EVE: Great! So, what do you want to do?',\n",
       " \"User: I don't know.\",\n",
       " \"EVE: That's okay. We can figure it out together. Let's start with something small. What's something you can do today that will make you feel better?\",\n",
       " \"User: I don't know.\",\n",
       " \"EVE: That's okay. Let's just start with something small. Maybe you can take a walk, or call a friend. Just something to get you started.\",\n",
       " \"User: Okay. I'll try that. I can call Jamie.\",\n",
       " \"EVE: Great! I'm here for you if you need any help.\",\n",
       " \"User: Thanks EVE. I'm feeling a little better now that I have a plan.\",\n",
       " \"EVE: I'm glad to hear it. I hope it continues to help.\",\n",
       " \"User: I'll try to keep the plan going.\",\n",
       " \"EVE: That's fine. You might find that some days, you don't need to have something planned out. But sometimes, it helps. And that's okay.\",\n",
       " \"User: I hope it does help me. I have an assignment due on Friday and I don't even know where to start.\",\n",
       " 'EVE: What do you think you should do?',\n",
       " \"User: I guess I should think about what my topic should be, but I've had so many ideas that I don't know which is the strongest.\",\n",
       " 'EVE: That sounds difficult. Maybe you can come up with a list of ideas, and then look at each one to see which one I like the best?',\n",
       " 'User: Maybe, but then it would just be a list of ideas, not an essay.',\n",
       " \"EVE: I can understand why you'd think that. But by taking a minute to look at the ideas and think about them, you can see which one works the best for you. Even if it doesn't seem like it, it's thinking about your idea in a different way, and that's part of the process.\",\n",
       " 'User: Okay. I will try that.',\n",
       " \"EVE: Great! I'll be here if there's anything else I can do.\"]"
      ]
     },
     "execution_count": 9,
     "metadata": {},
     "output_type": "execute_result"
    }
   ],
   "source": [
    "conversation"
   ]
  },
  {
   "cell_type": "code",
   "execution_count": 10,
   "metadata": {},
   "outputs": [
    {
     "data": {
      "text/plain": [
       "['feeling really down',\n",
       " 'just seems pointless',\n",
       " 'pointless don',\n",
       " 'doing anything',\n",
       " 'stuck',\n",
       " 'feel so lost',\n",
       " 'making plan',\n",
       " 'it will help',\n",
       " 'okay ll try',\n",
       " 'don know',\n",
       " 'don know',\n",
       " 'can call jamie',\n",
       " 'call',\n",
       " 'feeling little better',\n",
       " 'have plan',\n",
       " 'keep the plan',\n",
       " 'plan going',\n",
       " 'try to keep',\n",
       " 'have an assignment',\n",
       " 'topic should be',\n",
       " 'so many ideas',\n",
       " 'is the strongest',\n",
       " 'not an essay',\n",
       " 'list of ideas',\n",
       " 'okay will try',\n",
       " 'try that']"
      ]
     },
     "execution_count": 10,
     "metadata": {},
     "output_type": "execute_result"
    }
   ],
   "source": [
    "row_kw"
   ]
  },
  {
   "cell_type": "code",
   "execution_count": 18,
   "metadata": {},
   "outputs": [
    {
     "name": "stderr",
     "output_type": "stream",
     "text": [
      "config.json: 100%|██████████| 1.92k/1.92k [00:00<?, ?B/s]\n",
      "c:\\Users\\Pc\\AppData\\Local\\pypoetry\\Cache\\virtualenvs\\eve-project-13oD41wO-py3.10\\lib\\site-packages\\huggingface_hub\\file_download.py:138: UserWarning:\n",
      "\n",
      "`huggingface_hub` cache-system uses symlinks by default to efficiently store duplicated files but your machine does not support them in C:\\Users\\Pc\\.cache\\huggingface\\hub. Caching files will still work but in a degraded version that might require more space on your disk. This warning can be disabled by setting the `HF_HUB_DISABLE_SYMLINKS_WARNING` environment variable. For more details, see https://huggingface.co/docs/huggingface_hub/how-to-cache#limitations.\n",
      "To support symlinks on Windows, you either need to activate Developer Mode or to run Python as an administrator. In order to see activate developer mode, see this article: https://docs.microsoft.com/en-us/windows/apps/get-started/enable-your-device-for-development\n",
      "\n",
      "model.safetensors: 100%|██████████| 499M/499M [00:37<00:00, 13.3MB/s] \n",
      "tokenizer_config.json: 100%|██████████| 380/380 [00:00<00:00, 68.2kB/s]\n",
      "vocab.json: 100%|██████████| 798k/798k [00:00<00:00, 1.41MB/s]\n",
      "merges.txt: 100%|██████████| 456k/456k [00:01<00:00, 320kB/s] \n",
      "tokenizer.json: 100%|██████████| 2.11M/2.11M [00:00<00:00, 7.09MB/s]\n",
      "special_tokens_map.json: 100%|██████████| 280/280 [00:00<?, ?B/s] \n"
     ]
    }
   ],
   "source": [
    "from transformers import pipeline\n",
    "\n",
    "classifier = pipeline(task=\"text-classification\", model=\"SamLowe/roberta-base-go_emotions\", top_k=None)\n"
   ]
  },
  {
   "cell_type": "code",
   "execution_count": 20,
   "metadata": {},
   "outputs": [
    {
     "data": {
      "text/plain": [
       "[[{'label': 'sadness', 'score': 0.5446630120277405},\n",
       "  {'label': 'disappointment', 'score': 0.30761680006980896},\n",
       "  {'label': 'neutral', 'score': 0.08845043927431107},\n",
       "  {'label': 'annoyance', 'score': 0.029468994587659836},\n",
       "  {'label': 'nervousness', 'score': 0.019282324239611626},\n",
       "  {'label': 'realization', 'score': 0.01518035028129816},\n",
       "  {'label': 'approval', 'score': 0.014492638409137726},\n",
       "  {'label': 'disapproval', 'score': 0.012873281724750996},\n",
       "  {'label': 'caring', 'score': 0.009609888307750225},\n",
       "  {'label': 'remorse', 'score': 0.00871024839580059},\n",
       "  {'label': 'joy', 'score': 0.007714433129876852},\n",
       "  {'label': 'grief', 'score': 0.006158785428851843},\n",
       "  {'label': 'embarrassment', 'score': 0.004113135393708944},\n",
       "  {'label': 'relief', 'score': 0.003955792170017958},\n",
       "  {'label': 'anger', 'score': 0.003185177454724908},\n",
       "  {'label': 'admiration', 'score': 0.0030856614466756582},\n",
       "  {'label': 'fear', 'score': 0.003051792737096548},\n",
       "  {'label': 'optimism', 'score': 0.0028569523710757494},\n",
       "  {'label': 'love', 'score': 0.0028194633778184652},\n",
       "  {'label': 'disgust', 'score': 0.002774088876321912},\n",
       "  {'label': 'desire', 'score': 0.002389399567618966},\n",
       "  {'label': 'confusion', 'score': 0.002140029100701213},\n",
       "  {'label': 'excitement', 'score': 0.0020618692506104708},\n",
       "  {'label': 'amusement', 'score': 0.0019087500404566526},\n",
       "  {'label': 'curiosity', 'score': 0.0018716539489105344},\n",
       "  {'label': 'surprise', 'score': 0.001191121176816523},\n",
       "  {'label': 'pride', 'score': 0.0006580602494068444},\n",
       "  {'label': 'gratitude', 'score': 0.0006005037575960159}]]"
      ]
     },
     "execution_count": 20,
     "metadata": {},
     "output_type": "execute_result"
    }
   ],
   "source": [
    "classifier(row_kw[0])"
   ]
  },
  {
   "cell_type": "code",
   "execution_count": 11,
   "metadata": {},
   "outputs": [],
   "source": [
    "# import cosine similarity\n",
    "from sklearn.metrics.pairwise import cosine_similarity"
   ]
  },
  {
   "cell_type": "code",
   "execution_count": 12,
   "metadata": {},
   "outputs": [],
   "source": [
    "# calculate cosine similarity all with all\n",
    "cosine_matrix = np.zeros((len(emb), len(emb)))\n",
    "adyacency_matrix = np.zeros((len(emb), len(emb)))\n",
    "for i in range(len(emb)):\n",
    "    for j in range(len(emb)):\n",
    "        cs = cosine_similarity([emb[i]], [emb[j]])[0][0]\n",
    "        cosine_matrix[i][j] = cs\n",
    "        if cs > 0.4 and i != j:\n",
    "            adyacency_matrix[i][j] = 1"
   ]
  },
  {
   "cell_type": "code",
   "execution_count": 13,
   "metadata": {},
   "outputs": [
    {
     "data": {
      "text/plain": [
       "<matplotlib.image.AxesImage at 0x1d9c5668280>"
      ]
     },
     "execution_count": 13,
     "metadata": {},
     "output_type": "execute_result"
    },
    {
     "data": {
      "image/png": "[encoded data removed]",
      "text/plain": [
       "<Figure size 640x480 with 1 Axes>"
      ]
     },
     "metadata": {},
     "output_type": "display_data"
    }
   ],
   "source": [
    "import matplotlib.pyplot as plt\n",
    "\n",
    "plt.imshow(cosine_matrix)"
   ]
  },
  {
   "cell_type": "code",
   "execution_count": 14,
   "metadata": {},
   "outputs": [
    {
     "data": {
      "image/png": "[encoded data removed]",
      "text/plain": [
       "<Figure size 640x480 with 1 Axes>"
      ]
     },
     "metadata": {},
     "output_type": "display_data"
    }
   ],
   "source": [
    "# plot histogram\n",
    "plt.hist(cosine_matrix.flatten(), bins=100)\n",
    "plt.show()"
   ]
  },
  {
   "cell_type": "code",
   "execution_count": 15,
   "metadata": {},
   "outputs": [],
   "source": [
    "import networkx as nx"
   ]
  },
  {
   "cell_type": "code",
   "execution_count": 16,
   "metadata": {},
   "outputs": [
    {
     "data": {
      "image/png": "[encoded data removed]",
      "text/plain": [
       "<Figure size 640x480 with 1 Axes>"
      ]
     },
     "metadata": {},
     "output_type": "display_data"
    }
   ],
   "source": [
    "# Crear un grafo vacío\n",
    "grafo = nx.Graph()\n",
    "\n",
    "# Agregar nodos al grafo\n",
    "for i, nodo in enumerate(row_kw):\n",
    "    grafo.add_node(nodo)\n",
    "\n",
    "# Agregar bordes (aristas) al grafo basado en la matriz de adyacencia\n",
    "for i in range(len(row_kw)):\n",
    "    for j in range(len(row_kw)):\n",
    "        if adyacency_matrix[i][j] == 1:\n",
    "            grafo.add_edge(row_kw[i], row_kw[j])\n",
    "\n",
    "# Dibujar el grafo\n",
    "nx.draw(grafo, with_labels=True)\n",
    "plt.show()"
   ]
  },
  {
   "cell_type": "code",
   "execution_count": 17,
   "metadata": {},
   "outputs": [
    {
     "data": {
      "application/vnd.plotly.v1+json": {
       "config": {
        "plotlyServerURL": "https://plot.ly"
       },
       "data": [
        {
         "hoverinfo": "none",
         "line": {
          "color": "#888",
          "width": 0.5
         },
         "mode": "lines",
         "type": "scatter",
         "x": [
          -0.31349437687998216,
          -0.2489186991926028,
          null,
          -0.31349437687998216,
          -0.280410076672849,
          null,
          -0.31349437687998216,
          -0.1808932303932446,
          null,
          -0.2489186991926028,
          -0.11800097184394907,
          null,
          -0.2489186991926028,
          -0.2039813325349701,
          null,
          -0.2489186991926028,
          -0.22395029661740723,
          null,
          -0.2489186991926028,
          -0.280410076672849,
          null,
          -0.2489186991926028,
          -0.1808932303932446,
          null,
          -0.0974338502134981,
          -0.11800097184394907,
          null,
          -0.0974338502134981,
          -0.08306314246083323,
          null,
          -0.11800097184394907,
          -0.2039813325349701,
          null,
          -0.11800097184394907,
          -0.22395029661740723,
          null,
          -0.11800097184394907,
          -0.1808932303932446,
          null,
          -0.11800097184394907,
          -0.0037407911691863106,
          null,
          -0.11800097184394907,
          -0.08306314246083323,
          null,
          -0.11800097184394907,
          -0.10790882868722416,
          null,
          -0.11800097184394907,
          -0.014732091364350903,
          null,
          -0.11800097184394907,
          -0.0412707447174152,
          null,
          -0.11800097184394907,
          -0.05225164946740118,
          null,
          -0.11800097184394907,
          0.0065357333262143,
          null,
          -0.2039813325349701,
          -0.22395029661740723,
          null,
          -0.2039813325349701,
          -0.10790882868722416,
          null,
          -0.2039813325349701,
          -0.2613886822433483,
          null,
          -0.2039813325349701,
          -0.1613779039956946,
          null,
          -0.22395029661740723,
          -0.10790882868722416,
          null,
          -0.22395029661740723,
          -0.2613886822433483,
          null,
          -0.22395029661740723,
          -0.1613779039956946,
          null,
          -0.280410076672849,
          -0.1808932303932446,
          null,
          -0.1808932303932446,
          -0.0412707447174152,
          null,
          -0.1808932303932446,
          -0.05225164946740118,
          null,
          -0.0037407911691863106,
          -0.08306314246083323,
          null,
          -0.0037407911691863106,
          0.061385410597581576,
          null,
          -0.0037407911691863106,
          0.0065357333262143,
          null,
          -0.08306314246083323,
          -0.10790882868722416,
          null,
          -0.08306314246083323,
          -0.06596649296337967,
          null,
          -0.08306314246083323,
          -0.1613779039956946,
          null,
          -0.10790882868722416,
          -0.06596649296337967,
          null,
          -0.10790882868722416,
          -0.0412707447174152,
          null,
          -0.10790882868722416,
          -0.05225164946740118,
          null,
          -0.10790882868722416,
          0.0065357333262143,
          null,
          -0.10790882868722416,
          -0.1613779039956946,
          null,
          -0.06596649296337967,
          -0.014732091364350903,
          null,
          -0.06596649296337967,
          -0.1613779039956946,
          null,
          -0.014732091364350903,
          -0.0412707447174152,
          null,
          -0.014732091364350903,
          -0.05225164946740118,
          null,
          -0.3340955908799651,
          -0.30488520312645184,
          null,
          -0.0412707447174152,
          -0.05225164946740118,
          null,
          -0.0412707447174152,
          0.061385410597581576,
          null,
          -0.0412707447174152,
          0.0065357333262143,
          null,
          -0.05225164946740118,
          0.061385410597581576,
          null,
          -0.05225164946740118,
          0.0065357333262143,
          null,
          0.061385410597581576,
          0.0065357333262143,
          null,
          -0.2613886822433483,
          -0.1613779039956946,
          null,
          0.6870708271124992,
          0.7471068911350996,
          null,
          0.7976864862502391,
          0.7979786070021201,
          null
         ],
         "y": [
          0.16296750662742446,
          0.09442882336069792,
          null,
          0.16296750662742446,
          0.2039921120111094,
          null,
          0.16296750662742446,
          0.13993267240452054,
          null,
          0.09442882336069792,
          0.07028350925174226,
          null,
          0.09442882336069792,
          -0.023064749294032266,
          null,
          0.09442882336069792,
          -0.0007129142233802174,
          null,
          0.09442882336069792,
          0.2039921120111094,
          null,
          0.09442882336069792,
          0.13993267240452054,
          null,
          0.1696284467604714,
          0.07028350925174226,
          null,
          0.1696284467604714,
          0.030334467534551497,
          null,
          0.07028350925174226,
          -0.023064749294032266,
          null,
          0.07028350925174226,
          -0.0007129142233802174,
          null,
          0.07028350925174226,
          0.13993267240452054,
          null,
          0.07028350925174226,
          0.13087588806685874,
          null,
          0.07028350925174226,
          0.030334467534551497,
          null,
          0.07028350925174226,
          -0.004628133600275205,
          null,
          0.07028350925174226,
          -0.008161710165147705,
          null,
          0.07028350925174226,
          0.06376721819978028,
          null,
          0.07028350925174226,
          0.0972801133896472,
          null,
          0.07028350925174226,
          0.0645545384572109,
          null,
          -0.023064749294032266,
          -0.0007129142233802174,
          null,
          -0.023064749294032266,
          -0.004628133600275205,
          null,
          -0.023064749294032266,
          -0.10014751890593113,
          null,
          -0.023064749294032266,
          -0.07463781805922445,
          null,
          -0.0007129142233802174,
          -0.004628133600275205,
          null,
          -0.0007129142233802174,
          -0.10014751890593113,
          null,
          -0.0007129142233802174,
          -0.07463781805922445,
          null,
          0.2039921120111094,
          0.13993267240452054,
          null,
          0.13993267240452054,
          0.06376721819978028,
          null,
          0.13993267240452054,
          0.0972801133896472,
          null,
          0.13087588806685874,
          0.030334467534551497,
          null,
          0.13087588806685874,
          0.11356704068523726,
          null,
          0.13087588806685874,
          0.0645545384572109,
          null,
          0.030334467534551497,
          -0.004628133600275205,
          null,
          0.030334467534551497,
          -0.08431545575044197,
          null,
          0.030334467534551497,
          -0.07463781805922445,
          null,
          -0.004628133600275205,
          -0.08431545575044197,
          null,
          -0.004628133600275205,
          0.06376721819978028,
          null,
          -0.004628133600275205,
          0.0972801133896472,
          null,
          -0.004628133600275205,
          0.0645545384572109,
          null,
          -0.004628133600275205,
          -0.07463781805922445,
          null,
          -0.08431545575044197,
          -0.008161710165147705,
          null,
          -0.08431545575044197,
          -0.07463781805922445,
          null,
          -0.008161710165147705,
          0.06376721819978028,
          null,
          -0.008161710165147705,
          0.0972801133896472,
          null,
          -0.9335622375280748,
          -1,
          null,
          0.06376721819978028,
          0.0972801133896472,
          null,
          0.06376721819978028,
          0.11356704068523726,
          null,
          0.06376721819978028,
          0.0645545384572109,
          null,
          0.0972801133896472,
          0.11356704068523726,
          null,
          0.0972801133896472,
          0.0645545384572109,
          null,
          0.11356704068523726,
          0.0645545384572109,
          null,
          -0.10014751890593113,
          -0.07463781805922445,
          null,
          0.6541431089219373,
          0.613422444631319,
          null,
          -0.22631450019726007,
          -0.15363285257874015,
          null
         ]
        },
        {
         "hoverinfo": "text",
         "marker": {
          "color": [
           3,
           6,
           2,
           12,
           6,
           6,
           3,
           6,
           4,
           6,
           9,
           4,
           4,
           1,
           7,
           1,
           7,
           4,
           6,
           3,
           6,
           1,
           1,
           1,
           1
          ],
          "colorbar": {
           "thickness": 15,
           "title": {
            "side": "right",
            "text": "Node Connections"
           },
           "xanchor": "left"
          },
          "colorscale": [
           [
            0,
            "rgb(255,255,217)"
           ],
           [
            0.125,
            "rgb(237,248,177)"
           ],
           [
            0.25,
            "rgb(199,233,180)"
           ],
           [
            0.375,
            "rgb(127,205,187)"
           ],
           [
            0.5,
            "rgb(65,182,196)"
           ],
           [
            0.625,
            "rgb(29,145,192)"
           ],
           [
            0.75,
            "rgb(34,94,168)"
           ],
           [
            0.875,
            "rgb(37,52,148)"
           ],
           [
            1,
            "rgb(8,29,88)"
           ]
          ],
          "line": {
           "width": 2
          },
          "reversescale": true,
          "showscale": false,
          "size": 10
         },
         "mode": "markers",
         "text": [
          "Node: feeling really down<br># of connections: 3",
          "Node: just seems pointless<br># of connections: 6",
          "Node: pointless don<br># of connections: 2",
          "Node: doing anything<br># of connections: 12",
          "Node: stuck<br># of connections: 6",
          "Node: feel so lost<br># of connections: 6",
          "Node: making plan<br># of connections: 3",
          "Node: it will help<br># of connections: 6",
          "Node: okay ll try<br># of connections: 4",
          "Node: don know<br># of connections: 6",
          "Node: can call jamie<br># of connections: 9",
          "Node: call<br># of connections: 4",
          "Node: feeling little better<br># of connections: 4",
          "Node: have plan<br># of connections: 1",
          "Node: keep the plan<br># of connections: 7",
          "Node: plan going<br># of connections: 1",
          "Node: try to keep<br># of connections: 7",
          "Node: have an assignment<br># of connections: 4",
          "Node: topic should be<br># of connections: 6",
          "Node: so many ideas<br># of connections: 3",
          "Node: is the strongest<br># of connections: 6",
          "Node: not an essay<br># of connections: 1",
          "Node: list of ideas<br># of connections: 1",
          "Node: okay will try<br># of connections: 1",
          "Node: try that<br># of connections: 1"
         ],
         "type": "scatter",
         "x": [
          -0.31349437687998216,
          -0.2489186991926028,
          -0.0974338502134981,
          -0.11800097184394907,
          -0.2039813325349701,
          -0.22395029661740723,
          -0.280410076672849,
          -0.1808932303932446,
          -0.0037407911691863106,
          -0.08306314246083323,
          -0.10790882868722416,
          -0.06596649296337967,
          -0.014732091364350903,
          -0.3340955908799651,
          -0.0412707447174152,
          -0.30488520312645184,
          -0.05225164946740118,
          0.061385410597581576,
          0.0065357333262143,
          -0.2613886822433483,
          -0.1613779039956946,
          0.6870708271124992,
          0.7471068911350996,
          0.7976864862502391,
          0.7979786070021201
         ],
         "y": [
          0.16296750662742446,
          0.09442882336069792,
          0.1696284467604714,
          0.07028350925174226,
          -0.023064749294032266,
          -0.0007129142233802174,
          0.2039921120111094,
          0.13993267240452054,
          0.13087588806685874,
          0.030334467534551497,
          -0.004628133600275205,
          -0.08431545575044197,
          -0.008161710165147705,
          -0.9335622375280748,
          0.06376721819978028,
          -1,
          0.0972801133896472,
          0.11356704068523726,
          0.0645545384572109,
          -0.10014751890593113,
          -0.07463781805922445,
          0.6541431089219373,
          0.613422444631319,
          -0.22631450019726007,
          -0.15363285257874015
         ]
        }
       ],
       "layout": {
        "annotations": [
         {
          "showarrow": false,
          "text": "Python code: <a href=\"https://plot.ly/ipython-notebooks/network-graphs/\"> plot.ly/ipython-notebooks/network-graphs/</a>",
          "x": 0.005,
          "xref": "paper",
          "y": -0.002,
          "yref": "paper"
         }
        ],
        "hovermode": "closest",
        "margin": {
         "b": 20,
         "l": 5,
         "r": 5,
         "t": 40
        },
        "showlegend": false,
        "template": {
         "data": {
          "bar": [
           {
            "error_x": {
             "color": "#2a3f5f"
            },
            "error_y": {
             "color": "#2a3f5f"
            },
            "marker": {
             "line": {
              "color": "#E5ECF6",
              "width": 0.5
             },
             "pattern": {
              "fillmode": "overlay",
              "size": 10,
              "solidity": 0.2
             }
            },
            "type": "bar"
           }
          ],
          "barpolar": [
           {
            "marker": {
             "line": {
              "color": "#E5ECF6",
              "width": 0.5
             },
             "pattern": {
              "fillmode": "overlay",
              "size": 10,
              "solidity": 0.2
             }
            },
            "type": "barpolar"
           }
          ],
          "carpet": [
           {
            "aaxis": {
             "endlinecolor": "#2a3f5f",
             "gridcolor": "white",
             "linecolor": "white",
             "minorgridcolor": "white",
             "startlinecolor": "#2a3f5f"
            },
            "baxis": {
             "endlinecolor": "#2a3f5f",
             "gridcolor": "white",
             "linecolor": "white",
             "minorgridcolor": "white",
             "startlinecolor": "#2a3f5f"
            },
            "type": "carpet"
           }
          ],
          "choropleth": [
           {
            "colorbar": {
             "outlinewidth": 0,
             "ticks": ""
            },
            "type": "choropleth"
           }
          ],
          "contour": [
           {
            "colorbar": {
             "outlinewidth": 0,
             "ticks": ""
            },
            "colorscale": [
             [
              0,
              "#0d0887"
             ],
             [
              0.1111111111111111,
              "#46039f"
             ],
             [
              0.2222222222222222,
              "#7201a8"
             ],
             [
              0.3333333333333333,
              "#9c179e"
             ],
             [
              0.4444444444444444,
              "#bd3786"
             ],
             [
              0.5555555555555556,
              "#d8576b"
             ],
             [
              0.6666666666666666,
              "#ed7953"
             ],
             [
              0.7777777777777778,
              "#fb9f3a"
             ],
             [
              0.8888888888888888,
              "#fdca26"
             ],
             [
              1,
              "#f0f921"
             ]
            ],
            "type": "contour"
           }
          ],
          "contourcarpet": [
           {
            "colorbar": {
             "outlinewidth": 0,
             "ticks": ""
            },
            "type": "contourcarpet"
           }
          ],
          "heatmap": [
           {
            "colorbar": {
             "outlinewidth": 0,
             "ticks": ""
            },
            "colorscale": [
             [
              0,
              "#0d0887"
             ],
             [
              0.1111111111111111,
              "#46039f"
             ],
             [
              0.2222222222222222,
              "#7201a8"
             ],
             [
              0.3333333333333333,
              "#9c179e"
             ],
             [
              0.4444444444444444,
              "#bd3786"
             ],
             [
              0.5555555555555556,
              "#d8576b"
             ],
             [
              0.6666666666666666,
              "#ed7953"
             ],
             [
              0.7777777777777778,
              "#fb9f3a"
             ],
             [
              0.8888888888888888,
              "#fdca26"
             ],
             [
              1,
              "#f0f921"
             ]
            ],
            "type": "heatmap"
           }
          ],
          "heatmapgl": [
           {
            "colorbar": {
             "outlinewidth": 0,
             "ticks": ""
            },
            "colorscale": [
             [
              0,
              "#0d0887"
             ],
             [
              0.1111111111111111,
              "#46039f"
             ],
             [
              0.2222222222222222,
              "#7201a8"
             ],
             [
              0.3333333333333333,
              "#9c179e"
             ],
             [
              0.4444444444444444,
              "#bd3786"
             ],
             [
              0.5555555555555556,
              "#d8576b"
             ],
             [
              0.6666666666666666,
              "#ed7953"
             ],
             [
              0.7777777777777778,
              "#fb9f3a"
             ],
             [
              0.8888888888888888,
              "#fdca26"
             ],
             [
              1,
              "#f0f921"
             ]
            ],
            "type": "heatmapgl"
           }
          ],
          "histogram": [
           {
            "marker": {
             "pattern": {
              "fillmode": "overlay",
              "size": 10,
              "solidity": 0.2
             }
            },
            "type": "histogram"
           }
          ],
          "histogram2d": [
           {
            "colorbar": {
             "outlinewidth": 0,
             "ticks": ""
            },
            "colorscale": [
             [
              0,
              "#0d0887"
             ],
             [
              0.1111111111111111,
              "#46039f"
             ],
             [
              0.2222222222222222,
              "#7201a8"
             ],
             [
              0.3333333333333333,
              "#9c179e"
             ],
             [
              0.4444444444444444,
              "#bd3786"
             ],
             [
              0.5555555555555556,
              "#d8576b"
             ],
             [
              0.6666666666666666,
              "#ed7953"
             ],
             [
              0.7777777777777778,
              "#fb9f3a"
             ],
             [
              0.8888888888888888,
              "#fdca26"
             ],
             [
              1,
              "#f0f921"
             ]
            ],
            "type": "histogram2d"
           }
          ],
          "histogram2dcontour": [
           {
            "colorbar": {
             "outlinewidth": 0,
             "ticks": ""
            },
            "colorscale": [
             [
              0,
              "#0d0887"
             ],
             [
              0.1111111111111111,
              "#46039f"
             ],
             [
              0.2222222222222222,
              "#7201a8"
             ],
             [
              0.3333333333333333,
              "#9c179e"
             ],
             [
              0.4444444444444444,
              "#bd3786"
             ],
             [
              0.5555555555555556,
              "#d8576b"
             ],
             [
              0.6666666666666666,
              "#ed7953"
             ],
             [
              0.7777777777777778,
              "#fb9f3a"
             ],
             [
              0.8888888888888888,
              "#fdca26"
             ],
             [
              1,
              "#f0f921"
             ]
            ],
            "type": "histogram2dcontour"
           }
          ],
          "mesh3d": [
           {
            "colorbar": {
             "outlinewidth": 0,
             "ticks": ""
            },
            "type": "mesh3d"
           }
          ],
          "parcoords": [
           {
            "line": {
             "colorbar": {
              "outlinewidth": 0,
              "ticks": ""
             }
            },
            "type": "parcoords"
           }
          ],
          "pie": [
           {
            "automargin": true,
            "type": "pie"
           }
          ],
          "scatter": [
           {
            "fillpattern": {
             "fillmode": "overlay",
             "size": 10,
             "solidity": 0.2
            },
            "type": "scatter"
           }
          ],
          "scatter3d": [
           {
            "line": {
             "colorbar": {
              "outlinewidth": 0,
              "ticks": ""
             }
            },
            "marker": {
             "colorbar": {
              "outlinewidth": 0,
              "ticks": ""
             }
            },
            "type": "scatter3d"
           }
          ],
          "scattercarpet": [
           {
            "marker": {
             "colorbar": {
              "outlinewidth": 0,
              "ticks": ""
             }
            },
            "type": "scattercarpet"
           }
          ],
          "scattergeo": [
           {
            "marker": {
             "colorbar": {
              "outlinewidth": 0,
              "ticks": ""
             }
            },
            "type": "scattergeo"
           }
          ],
          "scattergl": [
           {
            "marker": {
             "colorbar": {
              "outlinewidth": 0,
              "ticks": ""
             }
            },
            "type": "scattergl"
           }
          ],
          "scattermapbox": [
           {
            "marker": {
             "colorbar": {
              "outlinewidth": 0,
              "ticks": ""
             }
            },
            "type": "scattermapbox"
           }
          ],
          "scatterpolar": [
           {
            "marker": {
             "colorbar": {
              "outlinewidth": 0,
              "ticks": ""
             }
            },
            "type": "scatterpolar"
           }
          ],
          "scatterpolargl": [
           {
            "marker": {
             "colorbar": {
              "outlinewidth": 0,
              "ticks": ""
             }
            },
            "type": "scatterpolargl"
           }
          ],
          "scatterternary": [
           {
            "marker": {
             "colorbar": {
              "outlinewidth": 0,
              "ticks": ""
             }
            },
            "type": "scatterternary"
           }
          ],
          "surface": [
           {
            "colorbar": {
             "outlinewidth": 0,
             "ticks": ""
            },
            "colorscale": [
             [
              0,
              "#0d0887"
             ],
             [
              0.1111111111111111,
              "#46039f"
             ],
             [
              0.2222222222222222,
              "#7201a8"
             ],
             [
              0.3333333333333333,
              "#9c179e"
             ],
             [
              0.4444444444444444,
              "#bd3786"
             ],
             [
              0.5555555555555556,
              "#d8576b"
             ],
             [
              0.6666666666666666,
              "#ed7953"
             ],
             [
              0.7777777777777778,
              "#fb9f3a"
             ],
             [
              0.8888888888888888,
              "#fdca26"
             ],
             [
              1,
              "#f0f921"
             ]
            ],
            "type": "surface"
           }
          ],
          "table": [
           {
            "cells": {
             "fill": {
              "color": "#EBF0F8"
             },
             "line": {
              "color": "white"
             }
            },
            "header": {
             "fill": {
              "color": "#C8D4E3"
             },
             "line": {
              "color": "white"
             }
            },
            "type": "table"
           }
          ]
         },
         "layout": {
          "annotationdefaults": {
           "arrowcolor": "#2a3f5f",
           "arrowhead": 0,
           "arrowwidth": 1
          },
          "autotypenumbers": "strict",
          "coloraxis": {
           "colorbar": {
            "outlinewidth": 0,
            "ticks": ""
           }
          },
          "colorscale": {
           "diverging": [
            [
             0,
             "#8e0152"
            ],
            [
             0.1,
             "#c51b7d"
            ],
            [
             0.2,
             "#de77ae"
            ],
            [
             0.3,
             "#f1b6da"
            ],
            [
             0.4,
             "#fde0ef"
            ],
            [
             0.5,
             "#f7f7f7"
            ],
            [
             0.6,
             "#e6f5d0"
            ],
            [
             0.7,
             "#b8e186"
            ],
            [
             0.8,
             "#7fbc41"
            ],
            [
             0.9,
             "#4d9221"
            ],
            [
             1,
             "#276419"
            ]
           ],
           "sequential": [
            [
             0,
             "#0d0887"
            ],
            [
             0.1111111111111111,
             "#46039f"
            ],
            [
             0.2222222222222222,
             "#7201a8"
            ],
            [
             0.3333333333333333,
             "#9c179e"
            ],
            [
             0.4444444444444444,
             "#bd3786"
            ],
            [
             0.5555555555555556,
             "#d8576b"
            ],
            [
             0.6666666666666666,
             "#ed7953"
            ],
            [
             0.7777777777777778,
             "#fb9f3a"
            ],
            [
             0.8888888888888888,
             "#fdca26"
            ],
            [
             1,
             "#f0f921"
            ]
           ],
           "sequentialminus": [
            [
             0,
             "#0d0887"
            ],
            [
             0.1111111111111111,
             "#46039f"
            ],
            [
             0.2222222222222222,
             "#7201a8"
            ],
            [
             0.3333333333333333,
             "#9c179e"
            ],
            [
             0.4444444444444444,
             "#bd3786"
            ],
            [
             0.5555555555555556,
             "#d8576b"
            ],
            [
             0.6666666666666666,
             "#ed7953"
            ],
            [
             0.7777777777777778,
             "#fb9f3a"
            ],
            [
             0.8888888888888888,
             "#fdca26"
            ],
            [
             1,
             "#f0f921"
            ]
           ]
          },
          "colorway": [
           "#636efa",
           "#EF553B",
           "#00cc96",
           "#ab63fa",
           "#FFA15A",
           "#19d3f3",
           "#FF6692",
           "#B6E880",
           "#FF97FF",
           "#FECB52"
          ],
          "font": {
           "color": "#2a3f5f"
          },
          "geo": {
           "bgcolor": "white",
           "lakecolor": "white",
           "landcolor": "#E5ECF6",
           "showlakes": true,
           "showland": true,
           "subunitcolor": "white"
          },
          "hoverlabel": {
           "align": "left"
          },
          "hovermode": "closest",
          "mapbox": {
           "style": "light"
          },
          "paper_bgcolor": "white",
          "plot_bgcolor": "#E5ECF6",
          "polar": {
           "angularaxis": {
            "gridcolor": "white",
            "linecolor": "white",
            "ticks": ""
           },
           "bgcolor": "#E5ECF6",
           "radialaxis": {
            "gridcolor": "white",
            "linecolor": "white",
            "ticks": ""
           }
          },
          "scene": {
           "xaxis": {
            "backgroundcolor": "#E5ECF6",
            "gridcolor": "white",
            "gridwidth": 2,
            "linecolor": "white",
            "showbackground": true,
            "ticks": "",
            "zerolinecolor": "white"
           },
           "yaxis": {
            "backgroundcolor": "#E5ECF6",
            "gridcolor": "white",
            "gridwidth": 2,
            "linecolor": "white",
            "showbackground": true,
            "ticks": "",
            "zerolinecolor": "white"
           },
           "zaxis": {
            "backgroundcolor": "#E5ECF6",
            "gridcolor": "white",
            "gridwidth": 2,
            "linecolor": "white",
            "showbackground": true,
            "ticks": "",
            "zerolinecolor": "white"
           }
          },
          "shapedefaults": {
           "line": {
            "color": "#2a3f5f"
           }
          },
          "ternary": {
           "aaxis": {
            "gridcolor": "white",
            "linecolor": "white",
            "ticks": ""
           },
           "baxis": {
            "gridcolor": "white",
            "linecolor": "white",
            "ticks": ""
           },
           "bgcolor": "#E5ECF6",
           "caxis": {
            "gridcolor": "white",
            "linecolor": "white",
            "ticks": ""
           }
          },
          "title": {
           "x": 0.05
          },
          "xaxis": {
           "automargin": true,
           "gridcolor": "white",
           "linecolor": "white",
           "ticks": "",
           "title": {
            "standoff": 15
           },
           "zerolinecolor": "white",
           "zerolinewidth": 2
          },
          "yaxis": {
           "automargin": true,
           "gridcolor": "white",
           "linecolor": "white",
           "ticks": "",
           "title": {
            "standoff": 15
           },
           "zerolinecolor": "white",
           "zerolinewidth": 2
          }
         }
        },
        "title": {
         "font": {
          "size": 16
         },
         "text": "<br>Interactive Network Graph using Plotly"
        },
        "xaxis": {
         "showgrid": false,
         "showticklabels": false,
         "zeroline": false
        },
        "yaxis": {
         "showgrid": false,
         "showticklabels": false,
         "zeroline": false
        }
       }
      }
     },
     "metadata": {},
     "output_type": "display_data"
    }
   ],
   "source": [
    "import plotly.graph_objects as go\n",
    "# Generar posiciones de los nodos para la representación en Plotly\n",
    "pos = nx.spring_layout(grafo)\n",
    "\n",
    "# Obtener las posiciones x, y de los nodos\n",
    "posiciones_x = [pos[nodo][0] for nodo in grafo.nodes()]\n",
    "posiciones_y = [pos[nodo][1] for nodo in grafo.nodes()]\n",
    "\n",
    "# Crear una lista con las aristas para Plotly\n",
    "edge_trace = go.Scatter(\n",
    "    x=[],\n",
    "    y=[],\n",
    "    line=dict(width=0.5, color='#888'),\n",
    "    hoverinfo='none',\n",
    "    mode='lines')\n",
    "\n",
    "# Agregar las aristas al trace de Plotly\n",
    "for edge in grafo.edges():\n",
    "    x0, y0 = pos[edge[0]]\n",
    "    x1, y1 = pos[edge[1]]\n",
    "    edge_trace['x'] += tuple([x0, x1, None])\n",
    "    edge_trace['y'] += tuple([y0, y1, None])\n",
    "\n",
    "# Crear el trace de los nodos para Plotly\n",
    "node_trace = go.Scatter(\n",
    "    x=posiciones_x,\n",
    "    y=posiciones_y,\n",
    "    mode='markers',\n",
    "    hoverinfo='text',\n",
    "    marker=dict(\n",
    "        showscale=False,\n",
    "        colorscale='YlGnBu',\n",
    "        reversescale=True,\n",
    "        color=[],\n",
    "        size=10,\n",
    "        colorbar=dict(\n",
    "            thickness=15,\n",
    "            title='Node Connections',\n",
    "            xanchor='left',\n",
    "            titleside='right'\n",
    "        ),\n",
    "        line_width=2))\n",
    "\n",
    "# Lista para almacenar la información de los nodos\n",
    "node_text = []\n",
    "\n",
    "# Agregar información sobre los nodos al trace de Plotly\n",
    "for node in grafo.nodes():\n",
    "    connections = len(list(grafo.neighbors(node)))\n",
    "    node_info = f'Node: {node}<br># of connections: {connections}'\n",
    "    node_text.append(node_info)\n",
    "    node_trace['marker']['color'] += tuple([connections])\n",
    "\n",
    "# Asignar la lista de texto de nodos al trace de Plotly\n",
    "node_trace['text'] = node_text\n",
    "\n",
    "# Crear la figura de Plotly\n",
    "fig = go.Figure(data=[edge_trace, node_trace],\n",
    "                layout=go.Layout(\n",
    "                    title='<br>Interactive Network Graph using Plotly',\n",
    "                    titlefont_size=16,\n",
    "                    showlegend=False,\n",
    "                    hovermode='closest',\n",
    "                    margin=dict(b=20, l=5, r=5, t=40),\n",
    "                    annotations=[dict(\n",
    "                        text='Python code: <a href=\"https://plot.ly/ipython-notebooks/network-graphs/\"> plot.ly/ipython-notebooks/network-graphs/</a>',\n",
    "                        showarrow=False,\n",
    "                        xref=\"paper\", yref=\"paper\",\n",
    "                        x=0.005, y=-0.002)],\n",
    "                    xaxis=dict(showgrid=False, zeroline=False, showticklabels=False),\n",
    "                    yaxis=dict(showgrid=False, zeroline=False, showticklabels=False))\n",
    "                )\n",
    "\n",
    "# Mostrar la figura interactiva de Plotly\n",
    "fig.show()"
   ]
  },
  {
   "cell_type": "code",
   "execution_count": 17,
   "metadata": {},
   "outputs": [],
   "source": [
    "# get keywords\n",
    "keywords = kw_model.extract_keywords(text[54], keyphrase_ngram_range=(1, 2), stop_words=None, use_mmr=True, diversity=0.7)"
   ]
  },
  {
   "cell_type": "code",
   "execution_count": 16,
   "metadata": {},
   "outputs": [
    {
     "data": {
      "text/plain": [
       "\"User: I guess you're right.\""
      ]
     },
     "execution_count": 16,
     "metadata": {},
     "output_type": "execute_result"
    }
   ],
   "source": [
    "text[54]"
   ]
  },
  {
   "cell_type": "code",
   "execution_count": 18,
   "metadata": {},
   "outputs": [
    {
     "data": {
      "text/plain": [
       "[('re right', 0.4814),\n",
       " ('user guess', 0.4615),\n",
       " ('user', 0.4477),\n",
       " ('guess you', 0.3089),\n",
       " ('you re', 0.1949)]"
      ]
     },
     "execution_count": 18,
     "metadata": {},
     "output_type": "execute_result"
    }
   ],
   "source": [
    "keywords"
   ]
  },
  {
   "cell_type": "code",
   "execution_count": 12,
   "metadata": {},
   "outputs": [
    {
     "data": {
      "text/plain": [
       "[('single ashamed', 0.6685),\n",
       " ('embarrassed single', 0.6171),\n",
       " ('adults single', 0.5721),\n",
       " ('single', 0.4794),\n",
       " ('ashamed', 0.4537)]"
      ]
     },
     "execution_count": 12,
     "metadata": {},
     "output_type": "execute_result"
    }
   ],
   "source": [
    "kw_model.extract_keywords(text[55], keyphrase_ngram_range=(1, 2))"
   ]
  },
  {
   "cell_type": "code",
   "execution_count": 28,
   "metadata": {},
   "outputs": [],
   "source": [
    "# read csv file\n",
    "import pandas as pd\n",
    "import os\n",
    "\n",
    "files = os.listdir('eve_project\\documents\\Keywords')\n",
    "\n",
    "dfs = []\n",
    "for file in files:\n",
    "    dfs.append(pd.read_csv('eve_project\\documents\\Keywords\\\\' + file, sep='\\t'))\n",
    "\n",
    "df = pd.concat(dfs)\n"
   ]
  },
  {
   "cell_type": "code",
   "execution_count": 29,
   "metadata": {},
   "outputs": [
    {
     "data": {
      "text/html": [
       "<div>\n",
       "<style scoped>\n",
       "    .dataframe tbody tr th:only-of-type {\n",
       "        vertical-align: middle;\n",
       "    }\n",
       "\n",
       "    .dataframe tbody tr th {\n",
       "        vertical-align: top;\n",
       "    }\n",
       "\n",
       "    .dataframe thead th {\n",
       "        text-align: right;\n",
       "    }\n",
       "</style>\n",
       "<table border=\"1\" class=\"dataframe\">\n",
       "  <thead>\n",
       "    <tr style=\"text-align: right;\">\n",
       "      <th></th>\n",
       "      <th>Node Name</th>\n",
       "      <th>Parent Node</th>\n",
       "      <th>Tags</th>\n",
       "    </tr>\n",
       "  </thead>\n",
       "  <tbody>\n",
       "    <tr>\n",
       "      <th>0</th>\n",
       "      <td>Dreams</td>\n",
       "      <td>Dreams</td>\n",
       "      <td>#Dreams</td>\n",
       "    </tr>\n",
       "    <tr>\n",
       "      <th>1</th>\n",
       "      <td>Career Goals</td>\n",
       "      <td>Dreams</td>\n",
       "      <td>#CareerGoals</td>\n",
       "    </tr>\n",
       "    <tr>\n",
       "      <th>2</th>\n",
       "      <td>Travel</td>\n",
       "      <td>Dreams</td>\n",
       "      <td>#Travel</td>\n",
       "    </tr>\n",
       "    <tr>\n",
       "      <th>3</th>\n",
       "      <td>Relationships</td>\n",
       "      <td>Dreams</td>\n",
       "      <td>#Relationships</td>\n",
       "    </tr>\n",
       "    <tr>\n",
       "      <th>4</th>\n",
       "      <td>Personal Growth</td>\n",
       "      <td>Dreams</td>\n",
       "      <td>#PersonalGrowth</td>\n",
       "    </tr>\n",
       "    <tr>\n",
       "      <th>...</th>\n",
       "      <td>...</td>\n",
       "      <td>...</td>\n",
       "      <td>...</td>\n",
       "    </tr>\n",
       "    <tr>\n",
       "      <th>43</th>\n",
       "      <td>Chat Messages</td>\n",
       "      <td>Communications</td>\n",
       "      <td>#ChatMessages</td>\n",
       "    </tr>\n",
       "    <tr>\n",
       "      <th>44</th>\n",
       "      <td>Documents</td>\n",
       "      <td>Work</td>\n",
       "      <td>#Documents</td>\n",
       "    </tr>\n",
       "    <tr>\n",
       "      <th>45</th>\n",
       "      <td>Contracts</td>\n",
       "      <td>Documents</td>\n",
       "      <td>#Contracts</td>\n",
       "    </tr>\n",
       "    <tr>\n",
       "      <th>46</th>\n",
       "      <td>Reports</td>\n",
       "      <td>Documents</td>\n",
       "      <td>#Reports</td>\n",
       "    </tr>\n",
       "    <tr>\n",
       "      <th>47</th>\n",
       "      <td>Presentations</td>\n",
       "      <td>Documents</td>\n",
       "      <td>#Presentations</td>\n",
       "    </tr>\n",
       "  </tbody>\n",
       "</table>\n",
       "<p>104 rows × 3 columns</p>\n",
       "</div>"
      ],
      "text/plain": [
       "          Node Name     Parent Node             Tags\n",
       "0            Dreams          Dreams          #Dreams\n",
       "1      Career Goals          Dreams     #CareerGoals\n",
       "2            Travel          Dreams          #Travel\n",
       "3     Relationships          Dreams   #Relationships\n",
       "4   Personal Growth          Dreams  #PersonalGrowth\n",
       "..              ...             ...              ...\n",
       "43    Chat Messages  Communications    #ChatMessages\n",
       "44        Documents            Work       #Documents\n",
       "45        Contracts       Documents       #Contracts\n",
       "46          Reports       Documents         #Reports\n",
       "47    Presentations       Documents   #Presentations\n",
       "\n",
       "[104 rows x 3 columns]"
      ]
     },
     "execution_count": 29,
     "metadata": {},
     "output_type": "execute_result"
    }
   ],
   "source": [
    "df"
   ]
  },
  {
   "cell_type": "code",
   "execution_count": 36,
   "metadata": {},
   "outputs": [],
   "source": [
    "candidates = df['Node Name'].values.tolist()"
   ]
  },
  {
   "cell_type": "code",
   "execution_count": 33,
   "metadata": {},
   "outputs": [
    {
     "data": {
      "text/plain": [
       "\"User: Hey EVE! I'm struggling today because I'm feeling really lonely. I've been single for a while now and I'm starting to feel like I'll never find love.\""
      ]
     },
     "execution_count": 33,
     "metadata": {},
     "output_type": "execute_result"
    }
   ],
   "source": [
    "text[62]"
   ]
  },
  {
   "cell_type": "code",
   "execution_count": 38,
   "metadata": {},
   "outputs": [
    {
     "data": {
      "text/plain": [
       "[('find love', 0.6211),\n",
       " ('eve struggling', 0.3817),\n",
       " ('user hey', 0.2417),\n",
       " ('never', 0.0886),\n",
       " ('like ll', -0.0005)]"
      ]
     },
     "execution_count": 38,
     "metadata": {},
     "output_type": "execute_result"
    }
   ],
   "source": [
    "kw_model.extract_keywords(text[62], keyphrase_ngram_range=(1, 2), stop_words=None, use_mmr=True, diversity=0.7)"
   ]
  },
  {
   "cell_type": "code",
   "execution_count": 45,
   "metadata": {},
   "outputs": [
    {
     "data": {
      "text/plain": [
       "[('find love', 0.6211),\n",
       " ('really lonely', 0.5494),\n",
       " ('been single', 0.5454),\n",
       " ('struggling today', 0.3255),\n",
       " ('ll never', 0.1239)]"
      ]
     },
     "execution_count": 45,
     "metadata": {},
     "output_type": "execute_result"
    }
   ],
   "source": [
    "kw_model.extract_keywords(text[62], keyphrase_ngram_range=(1, 2), stop_words=['eve', 'user'], use_mmr=True, diversity=0.5)"
   ]
  },
  {
   "cell_type": "code",
   "execution_count": 46,
   "metadata": {},
   "outputs": [
    {
     "data": {
      "text/plain": [
       "[]"
      ]
     },
     "execution_count": 46,
     "metadata": {},
     "output_type": "execute_result"
    }
   ],
   "source": [
    "kw_model.extract_keywords(text[62], keyphrase_ngram_range=(1, 2), stop_words=['eve', 'user'], use_mmr=True, diversity=0.5, candidates=candidates)"
   ]
  },
  {
   "cell_type": "code",
   "execution_count": 47,
   "metadata": {},
   "outputs": [],
   "source": [
    "kw = kw_model.extract_keywords(text[62], keyphrase_ngram_range=(1, 2), stop_words=['eve', 'user'], use_mmr=True, diversity=0.5)"
   ]
  },
  {
   "cell_type": "code",
   "execution_count": 58,
   "metadata": {},
   "outputs": [],
   "source": [
    "kw_wo_candidates = []\n",
    "kw_proba = []\n",
    "kw_candidates = []\n",
    "kw_candidates_proba = []\n",
    "for i in text:\n",
    "    kw = kw_model.extract_keywords(i, keyphrase_ngram_range=(1, 2), stop_words=['eve', 'user'], use_mmr=True, diversity=0.5)\n",
    "    if kw:\n",
    "        kw_wo_candidates.append(kw[0][0])\n",
    "        kw_proba.append(kw[0][1])\n",
    "    kw_c = kw_model.extract_keywords(i, keyphrase_ngram_range=(1, 2), stop_words=['eve', 'user'], use_mmr=True, diversity=0.5, seed_keywords=candidates)\n",
    "    if kw_c:\n",
    "        kw_candidates.append(kw_c[0][0])\n",
    "        kw_candidates_proba.append(kw_c[0][1])"
   ]
  },
  {
   "cell_type": "code",
   "execution_count": 59,
   "metadata": {},
   "outputs": [
    {
     "name": "stdout",
     "output_type": "stream",
     "text": [
      "3200 3200\n"
     ]
    }
   ],
   "source": [
    "print(len(kw_wo_candidates), len(kw_candidates))"
   ]
  },
  {
   "cell_type": "code",
   "execution_count": 60,
   "metadata": {},
   "outputs": [],
   "source": [
    "# make a dataframe\n",
    "df_kw = pd.DataFrame({'wo': kw_wo_candidates, 'proba': kw_proba, 'w': kw_candidates, 'proba_w': kw_candidates_proba})"
   ]
  },
  {
   "cell_type": "code",
   "execution_count": 72,
   "metadata": {},
   "outputs": [],
   "source": [
    "doc_embeddings, word_embeddings = kw_model.extract_embeddings(text)"
   ]
  },
  {
   "cell_type": "code",
   "execution_count": 67,
   "metadata": {},
   "outputs": [
    {
     "data": {
      "text/plain": [
       "(3200, 384)"
      ]
     },
     "execution_count": 67,
     "metadata": {},
     "output_type": "execute_result"
    }
   ],
   "source": [
    "doc_embeddings.shape"
   ]
  },
  {
   "cell_type": "code",
   "execution_count": 66,
   "metadata": {},
   "outputs": [
    {
     "data": {
      "text/plain": [
       "(2482, 384)"
      ]
     },
     "execution_count": 66,
     "metadata": {},
     "output_type": "execute_result"
    }
   ],
   "source": [
    "word_embeddings.shape"
   ]
  },
  {
   "cell_type": "code",
   "execution_count": 73,
   "metadata": {},
   "outputs": [],
   "source": [
    "cs_embeddings, cc_embeddings = kw_model.extract_embeddings(candidates)"
   ]
  },
  {
   "cell_type": "code",
   "execution_count": 71,
   "metadata": {},
   "outputs": [
    {
     "data": {
      "text/plain": [
       "104"
      ]
     },
     "execution_count": 71,
     "metadata": {},
     "output_type": "execute_result"
    }
   ],
   "source": [
    "len(candidates)"
   ]
  },
  {
   "cell_type": "code",
   "execution_count": 80,
   "metadata": {},
   "outputs": [
    {
     "data": {
      "text/plain": [
       "(104, 384)"
      ]
     },
     "execution_count": 80,
     "metadata": {},
     "output_type": "execute_result"
    }
   ],
   "source": [
    "cs_embeddings.shape"
   ]
  },
  {
   "cell_type": "code",
   "execution_count": 81,
   "metadata": {},
   "outputs": [
    {
     "data": {
      "text/plain": [
       "(89, 384)"
      ]
     },
     "execution_count": 81,
     "metadata": {},
     "output_type": "execute_result"
    }
   ],
   "source": [
    "cc_embeddings.shape"
   ]
  },
  {
   "cell_type": "code",
   "execution_count": 74,
   "metadata": {},
   "outputs": [],
   "source": [
    "#import cosine_similarity\n",
    "from sklearn.metrics.pairwise import cosine_similarity"
   ]
  },
  {
   "cell_type": "code",
   "execution_count": 89,
   "metadata": {},
   "outputs": [],
   "source": [
    "cos_sim = [cosine_similarity(doc_embeddings[62].reshape(1, -1), cs_embeddings[i].reshape(1, -1))[0][0] for i in range(len(cs_embeddings))]"
   ]
  },
  {
   "cell_type": "code",
   "execution_count": 90,
   "metadata": {},
   "outputs": [],
   "source": [
    "df_tst = pd.DataFrame({'candidates': candidates, 'cos_sim': cos_sim})"
   ]
  },
  {
   "cell_type": "code",
   "execution_count": 88,
   "metadata": {},
   "outputs": [
    {
     "data": {
      "text/plain": [
       "\"User: Hey EVE! I'm struggling today because I'm feeling really lonely. I've been single for a while now and I'm starting to feel like I'll never find love.\""
      ]
     },
     "execution_count": 88,
     "metadata": {},
     "output_type": "execute_result"
    }
   ],
   "source": [
    "text[62]"
   ]
  },
  {
   "cell_type": "code",
   "execution_count": 92,
   "metadata": {},
   "outputs": [
    {
     "data": {
      "text/html": [
       "<div>\n",
       "<style scoped>\n",
       "    .dataframe tbody tr th:only-of-type {\n",
       "        vertical-align: middle;\n",
       "    }\n",
       "\n",
       "    .dataframe tbody tr th {\n",
       "        vertical-align: top;\n",
       "    }\n",
       "\n",
       "    .dataframe thead th {\n",
       "        text-align: right;\n",
       "    }\n",
       "</style>\n",
       "<table border=\"1\" class=\"dataframe\">\n",
       "  <thead>\n",
       "    <tr style=\"text-align: right;\">\n",
       "      <th></th>\n",
       "      <th>candidates</th>\n",
       "      <th>cos_sim</th>\n",
       "    </tr>\n",
       "  </thead>\n",
       "  <tbody>\n",
       "    <tr>\n",
       "      <th>24</th>\n",
       "      <td>Depression</td>\n",
       "      <td>0.295360</td>\n",
       "    </tr>\n",
       "    <tr>\n",
       "      <th>3</th>\n",
       "      <td>Relationships</td>\n",
       "      <td>0.236618</td>\n",
       "    </tr>\n",
       "    <tr>\n",
       "      <th>48</th>\n",
       "      <td>Relationships</td>\n",
       "      <td>0.236618</td>\n",
       "    </tr>\n",
       "    <tr>\n",
       "      <th>55</th>\n",
       "      <td>Volunteering</td>\n",
       "      <td>0.226566</td>\n",
       "    </tr>\n",
       "  </tbody>\n",
       "</table>\n",
       "</div>"
      ],
      "text/plain": [
       "       candidates   cos_sim\n",
       "24     Depression  0.295360\n",
       "3   Relationships  0.236618\n",
       "48  Relationships  0.236618\n",
       "55   Volunteering  0.226566"
      ]
     },
     "execution_count": 92,
     "metadata": {},
     "output_type": "execute_result"
    }
   ],
   "source": [
    "df_tst.sort_values(by='cos_sim', ascending=False).head(4)"
   ]
  },
  {
   "cell_type": "code",
   "execution_count": 93,
   "metadata": {},
   "outputs": [
    {
     "data": {
      "text/plain": [
       "[('find love', 0.6211),\n",
       " ('really lonely', 0.5494),\n",
       " ('been single', 0.5454),\n",
       " ('struggling today', 0.3255),\n",
       " ('ll never', 0.1239)]"
      ]
     },
     "execution_count": 93,
     "metadata": {},
     "output_type": "execute_result"
    }
   ],
   "source": [
    "kw_model.extract_keywords(text[62], keyphrase_ngram_range=(1, 2), stop_words=['eve', 'user'], use_mmr=True, diversity=0.5)"
   ]
  },
  {
   "cell_type": "code",
   "execution_count": 105,
   "metadata": {},
   "outputs": [],
   "source": [
    "# make a average embedding of each clase df Parent Node\t\n",
    "parents = df['Parent Node'].unique().tolist()\n",
    "# indexes of each class\n",
    "parent_node = df['Parent Node'].values.tolist()\n",
    "indexes = []\n",
    "for i in parents:\n",
    "    indexes.append([j for j, x in enumerate(parent_node) if x == i])\n",
    "# remove empty lists\n",
    "indexes = [x for x in indexes if x]"
   ]
  },
  {
   "cell_type": "code",
   "execution_count": 123,
   "metadata": {},
   "outputs": [
    {
     "data": {
      "text/plain": [
       "[[0, 1, 2, 3, 4, 5, 6],\n",
       " [7, 8, 9, 10, 11],\n",
       " [13, 14, 15],\n",
       " [16, 17, 18, 19, 20, 21, 22],\n",
       " [23, 24, 25, 26, 27, 30],\n",
       " [28, 29],\n",
       " [31, 32],\n",
       " [34, 35],\n",
       " [36, 37, 38, 39, 44],\n",
       " [45, 46, 47, 48, 49, 50, 51, 52, 53, 54, 55],\n",
       " [56, 57, 60, 63, 66, 69, 73, 77, 80, 84, 87, 90, 93, 96, 100],\n",
       " [58, 59, 85, 86],\n",
       " [61, 62, 88, 89],\n",
       " [64, 65, 91, 92],\n",
       " [67, 68, 94, 95],\n",
       " [70, 71, 72, 97, 98, 99],\n",
       " [74, 75, 76, 101, 102, 103],\n",
       " [78, 79],\n",
       " [81, 82]]"
      ]
     },
     "execution_count": 123,
     "metadata": {},
     "output_type": "execute_result"
    }
   ],
   "source": [
    "indexes"
   ]
  },
  {
   "cell_type": "code",
   "execution_count": 107,
   "metadata": {},
   "outputs": [],
   "source": [
    "# make a average embedding of each clase\n",
    "parent_embeddings = []\n",
    "for i in indexes:\n",
    "    parent_embeddings.append(cs_embeddings[i].mean(axis=0))"
   ]
  },
  {
   "cell_type": "code",
   "execution_count": 115,
   "metadata": {},
   "outputs": [
    {
     "data": {
      "text/html": [
       "<div>\n",
       "<style scoped>\n",
       "    .dataframe tbody tr th:only-of-type {\n",
       "        vertical-align: middle;\n",
       "    }\n",
       "\n",
       "    .dataframe tbody tr th {\n",
       "        vertical-align: top;\n",
       "    }\n",
       "\n",
       "    .dataframe thead th {\n",
       "        text-align: right;\n",
       "    }\n",
       "</style>\n",
       "<table border=\"1\" class=\"dataframe\">\n",
       "  <thead>\n",
       "    <tr style=\"text-align: right;\">\n",
       "      <th></th>\n",
       "      <th>Node Name</th>\n",
       "      <th>Parent Node</th>\n",
       "      <th>Tags</th>\n",
       "    </tr>\n",
       "  </thead>\n",
       "  <tbody>\n",
       "    <tr>\n",
       "      <th>0</th>\n",
       "      <td>Dreams</td>\n",
       "      <td>Dreams</td>\n",
       "      <td>#Dreams</td>\n",
       "    </tr>\n",
       "    <tr>\n",
       "      <th>1</th>\n",
       "      <td>Career Goals</td>\n",
       "      <td>Dreams</td>\n",
       "      <td>#CareerGoals</td>\n",
       "    </tr>\n",
       "    <tr>\n",
       "      <th>2</th>\n",
       "      <td>Travel</td>\n",
       "      <td>Dreams</td>\n",
       "      <td>#Travel</td>\n",
       "    </tr>\n",
       "    <tr>\n",
       "      <th>3</th>\n",
       "      <td>Relationships</td>\n",
       "      <td>Dreams</td>\n",
       "      <td>#Relationships</td>\n",
       "    </tr>\n",
       "    <tr>\n",
       "      <th>4</th>\n",
       "      <td>Personal Growth</td>\n",
       "      <td>Dreams</td>\n",
       "      <td>#PersonalGrowth</td>\n",
       "    </tr>\n",
       "  </tbody>\n",
       "</table>\n",
       "</div>"
      ],
      "text/plain": [
       "         Node Name Parent Node             Tags\n",
       "0           Dreams      Dreams          #Dreams\n",
       "1     Career Goals      Dreams     #CareerGoals\n",
       "2           Travel      Dreams          #Travel\n",
       "3    Relationships      Dreams   #Relationships\n",
       "4  Personal Growth      Dreams  #PersonalGrowth"
      ]
     },
     "execution_count": 115,
     "metadata": {},
     "output_type": "execute_result"
    }
   ],
   "source": [
    "df.head()"
   ]
  },
  {
   "cell_type": "code",
   "execution_count": 126,
   "metadata": {},
   "outputs": [
    {
     "name": "stdout",
     "output_type": "stream",
     "text": [
      "0.4706407\n",
      "0.8769648\n",
      "0.31912997\n",
      "0.37194344\n",
      "0.22771505\n",
      "-0.022770233\n",
      "0.20630851\n",
      "0.2688373\n",
      "0.26453367\n",
      "0.42568928\n",
      "0.4086716\n",
      "0.17947781\n",
      "0.22279494\n",
      "0.3860677\n",
      "0.15380278\n",
      "0.23397234\n",
      "0.2966305\n",
      "0.1376192\n",
      "0.2493592\n"
     ]
    }
   ],
   "source": [
    "for i in range(len(parent_embeddings)):\n",
    "    print(cosine_similarity(parent_embeddings[i].reshape(1, -1), cs_embeddings[8].reshape(1, -1))[0][0])\n"
   ]
  },
  {
   "cell_type": "code",
   "execution_count": 10,
   "metadata": {},
   "outputs": [],
   "source": [
    "# open txt file\n",
    "with open('..\\documents\\conversations_examples\\conversations.txt', 'r') as file:\n",
    "    text = file.read()\n",
    "\n",
    "text = text.split('\\n')\n",
    "# delete empty lines\n",
    "text = [x for x in text if x]"
   ]
  },
  {
   "cell_type": "code",
   "execution_count": 18,
   "metadata": {},
   "outputs": [],
   "source": [
    "# read csv file\n",
    "import pandas as pd\n",
    "import numpy as np\n",
    "import os\n",
    "from keybert import KeyBERT\n",
    "from sklearn.metrics.pairwise import cosine_similarity\n",
    "\n",
    "files = os.listdir('..\\documents\\Keywords')\n",
    "\n",
    "dfs = []\n",
    "for file in files:\n",
    "    dfs.append(pd.read_csv('..\\documents\\Keywords\\\\' + file, sep='\\t'))\n",
    "\n",
    "parent_df = pd.concat(dfs)\n",
    "candidates = parent_df['Node Name'].unique().tolist()\n",
    "parents = parent_df['Parent Node'].unique().tolist()\n",
    "# delete empty lists\n",
    "parents = [x for x in parents if str(x) != 'nan']\n",
    "kw_model = KeyBERT('all-MiniLM-L6-v2')\n",
    "candidates_embeddings, _ = kw_model.extract_embeddings(candidates)\n",
    "parents_embeddings, _ = kw_model.extract_embeddings(parents)\n",
    "\n",
    "\n",
    "def get_parent(kw, parent_embeddings, kw_model, parent_df):\n",
    "    emb, _ = kw_model.extract_embeddings(kw)\n",
    "    cos_sim = [cosine_similarity(emb.reshape(1, -1), parent_embeddings[i].reshape(1, -1))[0][0] for i in range(len(parent_embeddings))]\n",
    "    parents = parent_df.iloc[cos_sim.index(max(cos_sim))]['Parent Node']\n",
    "    return parents\n",
    "\n",
    "def extract_custom_keywords(text, candidates_emb, candidates, kw_model, doc_embeddings=None):\n",
    "    if doc_embeddings is None:\n",
    "        doc_embeddings, _ = kw_model.extract_embeddings(text)\n",
    "    # Inicializa una lista para almacenar los resultados finales\n",
    "    result = []\n",
    "    # Itera sobre las filas de cos_sim y doc_embeddings\n",
    "    for j in range(len(doc_embeddings)):\n",
    "        # Calcula el coseno de similitud para cada candidato\n",
    "        cos_sim_row = [cosine_similarity(doc_embeddings[j].reshape(1, -1), candidates_emb[i].reshape(1, -1))[0][0] for i in range(len(candidates_emb))]\n",
    "        # Combina los candidatos con sus respectivos valores de similitud\n",
    "        row_result = list(zip(candidates, cos_sim_row))\n",
    "        # Ordena la lista de tuplas por el valor de similitud en orden descendente\n",
    "        row_result.sort(key=lambda x: x[1], reverse=True)\n",
    "        # Toma los primeros 4 elementos de la lista ordenada\n",
    "        result.extend(row_result[:4])\n",
    "\n",
    "    return result"
   ]
  },
  {
   "cell_type": "code",
   "execution_count": 26,
   "metadata": {},
   "outputs": [],
   "source": [
    "def extract_keywords(text, candidates_emb, candidates, parent_embeddings, parent_df, kw_model, humbral=0.5):\n",
    "    doc_embeddings, word_embeddings = kw_model.extract_embeddings(text, keyphrase_ngram_range=(1, 2), stop_words=['eve', 'user'])\n",
    "    model_kw = kw_model.extract_keywords(text,doc_embeddings=doc_embeddings, word_embeddings=word_embeddings, keyphrase_ngram_range=(1, 2), stop_words=['eve', 'user'], use_mmr=True, diversity=0.5)\n",
    "    custom_kw = extract_custom_keywords(text, candidates_emb, candidates, kw_model, doc_embeddings=doc_embeddings)\n",
    "    print(model_kw)\n",
    "    print(custom_kw)\n",
    "      \n",
    "    model_kw = [i for i in model_kw if i[1] >= humbral]\n",
    "    custom_kw = [i for i in custom_kw if i[1] >= humbral]\n",
    "\n",
    "    # get parent node of each keyword\n",
    "    model_kw_parent = [get_parent(i[0], parent_embeddings, kw_model, parent_df) for i in model_kw]\n",
    "    custom_kw_parent = [parent_df[parent_df['Node Name'] == i[0]]['Parent Node'].values[0] for i in custom_kw]\n",
    "    # Inicializa una lista para almacenar los resultados finales lista de tuplas (keyword, parent)\n",
    "    results = []\n",
    "    for i in range(len(model_kw)):\n",
    "        results.append((model_kw[i][0], model_kw_parent[i]))\n",
    "    for i in range(len(custom_kw)):\n",
    "        results.append((custom_kw[i][0], custom_kw_parent[i]))\n",
    "    return results\n"
   ]
  },
  {
   "cell_type": "code",
   "execution_count": 35,
   "metadata": {},
   "outputs": [
    {
     "data": {
      "text/plain": [
       "\"User: I'm addicted to smoking cigarettes. I know it's bad for my health, but I can't seem to stop.\""
      ]
     },
     "execution_count": 35,
     "metadata": {},
     "output_type": "execute_result"
    }
   ],
   "source": [
    "text[71]"
   ]
  },
  {
   "cell_type": "code",
   "execution_count": 36,
   "metadata": {},
   "outputs": [
    {
     "name": "stdout",
     "output_type": "stream",
     "text": [
      "[('smoking cigarettes', 0.6458), ('addicted', 0.5303), ('stop', 0.359), ('health but', 0.3099), ('for my', 0.1444)]\n",
      "[('Mental Health', 0.27879333), ('Depression', 0.27065015), ('Therapy', 0.2588487), ('Anxiety', 0.24627128)]\n"
     ]
    },
    {
     "data": {
      "text/plain": [
       "[('smoking cigarettes', 'Dreams'), ('addicted', 'Ideas')]"
      ]
     },
     "execution_count": 36,
     "metadata": {},
     "output_type": "execute_result"
    }
   ],
   "source": [
    "extract_keywords(text[71], candidates_embeddings, candidates, parents_embeddings, parent_df, kw_model, humbral=0.5)"
   ]
  },
  {
   "cell_type": "code",
   "execution_count": 31,
   "metadata": {},
   "outputs": [
    {
     "data": {
      "text/html": [
       "<div>\n",
       "<style scoped>\n",
       "    .dataframe tbody tr th:only-of-type {\n",
       "        vertical-align: middle;\n",
       "    }\n",
       "\n",
       "    .dataframe tbody tr th {\n",
       "        vertical-align: top;\n",
       "    }\n",
       "\n",
       "    .dataframe thead th {\n",
       "        text-align: right;\n",
       "    }\n",
       "</style>\n",
       "<table border=\"1\" class=\"dataframe\">\n",
       "  <thead>\n",
       "    <tr style=\"text-align: right;\">\n",
       "      <th></th>\n",
       "      <th>Node Name</th>\n",
       "      <th>Parent Node</th>\n",
       "      <th>Tags</th>\n",
       "    </tr>\n",
       "  </thead>\n",
       "  <tbody>\n",
       "    <tr>\n",
       "      <th>0</th>\n",
       "      <td>Dreams</td>\n",
       "      <td>Dreams</td>\n",
       "      <td>#Dreams</td>\n",
       "    </tr>\n",
       "    <tr>\n",
       "      <th>1</th>\n",
       "      <td>Career Goals</td>\n",
       "      <td>Dreams</td>\n",
       "      <td>#CareerGoals</td>\n",
       "    </tr>\n",
       "    <tr>\n",
       "      <th>2</th>\n",
       "      <td>Travel</td>\n",
       "      <td>Dreams</td>\n",
       "      <td>#Travel</td>\n",
       "    </tr>\n",
       "    <tr>\n",
       "      <th>3</th>\n",
       "      <td>Relationships</td>\n",
       "      <td>Dreams</td>\n",
       "      <td>#Relationships</td>\n",
       "    </tr>\n",
       "    <tr>\n",
       "      <th>4</th>\n",
       "      <td>Personal Growth</td>\n",
       "      <td>Dreams</td>\n",
       "      <td>#PersonalGrowth</td>\n",
       "    </tr>\n",
       "    <tr>\n",
       "      <th>5</th>\n",
       "      <td>Creativity</td>\n",
       "      <td>Dreams</td>\n",
       "      <td>#Creativity</td>\n",
       "    </tr>\n",
       "    <tr>\n",
       "      <th>6</th>\n",
       "      <td>Adventure</td>\n",
       "      <td>Dreams</td>\n",
       "      <td>#Adventure</td>\n",
       "    </tr>\n",
       "    <tr>\n",
       "      <th>0</th>\n",
       "      <td>Ideas</td>\n",
       "      <td>Ideas</td>\n",
       "      <td>#Ideas</td>\n",
       "    </tr>\n",
       "    <tr>\n",
       "      <th>1</th>\n",
       "      <td>Creative Ideas</td>\n",
       "      <td>Ideas</td>\n",
       "      <td>#CreativeIdeas</td>\n",
       "    </tr>\n",
       "    <tr>\n",
       "      <th>2</th>\n",
       "      <td>Product Ideas</td>\n",
       "      <td>Ideas</td>\n",
       "      <td>#ProductIdeas</td>\n",
       "    </tr>\n",
       "    <tr>\n",
       "      <th>3</th>\n",
       "      <td>Business Ideas</td>\n",
       "      <td>Ideas</td>\n",
       "      <td>#BusinessIdeas</td>\n",
       "    </tr>\n",
       "    <tr>\n",
       "      <th>4</th>\n",
       "      <td>Project Ideas</td>\n",
       "      <td>Ideas</td>\n",
       "      <td>#ProjectIdeas</td>\n",
       "    </tr>\n",
       "    <tr>\n",
       "      <th>5</th>\n",
       "      <td>Thoughts</td>\n",
       "      <td>NaN</td>\n",
       "      <td>#Thoughts</td>\n",
       "    </tr>\n",
       "    <tr>\n",
       "      <th>6</th>\n",
       "      <td>Reflections</td>\n",
       "      <td>Thoughts</td>\n",
       "      <td>#Reflections</td>\n",
       "    </tr>\n",
       "    <tr>\n",
       "      <th>7</th>\n",
       "      <td>Opinions</td>\n",
       "      <td>Thoughts</td>\n",
       "      <td>#Opinions</td>\n",
       "    </tr>\n",
       "    <tr>\n",
       "      <th>8</th>\n",
       "      <td>Questions</td>\n",
       "      <td>Thoughts</td>\n",
       "      <td>#Questions</td>\n",
       "    </tr>\n",
       "    <tr>\n",
       "      <th>0</th>\n",
       "      <td>Important Dates</td>\n",
       "      <td>Important Dates</td>\n",
       "      <td>#ImportantDates</td>\n",
       "    </tr>\n",
       "    <tr>\n",
       "      <th>1</th>\n",
       "      <td>Birthdays</td>\n",
       "      <td>Important Dates</td>\n",
       "      <td>#Birthdays</td>\n",
       "    </tr>\n",
       "    <tr>\n",
       "      <th>2</th>\n",
       "      <td>Anniversaries</td>\n",
       "      <td>Important Dates</td>\n",
       "      <td>#Anniversaries</td>\n",
       "    </tr>\n",
       "    <tr>\n",
       "      <th>3</th>\n",
       "      <td>Holidays</td>\n",
       "      <td>Important Dates</td>\n",
       "      <td>#Holidays</td>\n",
       "    </tr>\n",
       "  </tbody>\n",
       "</table>\n",
       "</div>"
      ],
      "text/plain": [
       "         Node Name      Parent Node             Tags\n",
       "0           Dreams           Dreams          #Dreams\n",
       "1     Career Goals           Dreams     #CareerGoals\n",
       "2           Travel           Dreams          #Travel\n",
       "3    Relationships           Dreams   #Relationships\n",
       "4  Personal Growth           Dreams  #PersonalGrowth\n",
       "5       Creativity           Dreams      #Creativity\n",
       "6        Adventure           Dreams       #Adventure\n",
       "0            Ideas            Ideas           #Ideas\n",
       "1   Creative Ideas            Ideas   #CreativeIdeas\n",
       "2    Product Ideas            Ideas    #ProductIdeas\n",
       "3   Business Ideas            Ideas   #BusinessIdeas\n",
       "4    Project Ideas            Ideas    #ProjectIdeas\n",
       "5         Thoughts              NaN        #Thoughts\n",
       "6      Reflections         Thoughts     #Reflections\n",
       "7         Opinions         Thoughts        #Opinions\n",
       "8        Questions         Thoughts       #Questions\n",
       "0  Important Dates  Important Dates  #ImportantDates\n",
       "1        Birthdays  Important Dates       #Birthdays\n",
       "2    Anniversaries  Important Dates   #Anniversaries\n",
       "3         Holidays  Important Dates        #Holidays"
      ]
     },
     "execution_count": 31,
     "metadata": {},
     "output_type": "execute_result"
    }
   ],
   "source": [
    "parent_df.head(20)"
   ]
  },
  {
   "cell_type": "code",
   "execution_count": 6,
   "metadata": {},
   "outputs": [],
   "source": [
    "kw_folder = r'C:\\Users\\Pc\\Documents\\Talk_to_Eve_mvp\\documents\\Keywords'"
   ]
  },
  {
   "cell_type": "code",
   "execution_count": 7,
   "metadata": {},
   "outputs": [],
   "source": [
    "import os\n",
    "fil = os.listdir(kw_folder)\n",
    "folders = [x for x in fil if '.' not in x]"
   ]
  },
  {
   "cell_type": "code",
   "execution_count": 13,
   "metadata": {},
   "outputs": [],
   "source": [
    "# files in each folder\n",
    "txt_markdown = []\n",
    "for i in folders:\n",
    "    file = os.listdir(kw_folder + '\\\\' + i)\n",
    "    # append string of each file to txt_markdown\n",
    "    for j in file:\n",
    "        if '.DS_Store' not in j:\n",
    "            # check if j is a folder\n",
    "            if '.' in j:\n",
    "                with open(kw_folder + '\\\\' + i + '\\\\' + j, 'r', encoding='utf-8', errors='ignore') as file:\n",
    "                    txt_markdown.append(file.read())\n",
    "            else: # j is a folder\n",
    "                file2 = os.listdir(kw_folder + '\\\\' + i + '\\\\' + j)\n",
    "                for k in file2:\n",
    "                    if '.DS_Store' not in k:\n",
    "                        with open(kw_folder + '\\\\' + i + '\\\\' + j + '\\\\' + k, 'r', encoding='utf-8', errors='ignore') as file:\n",
    "                            txt_markdown.append(file.read())"
   ]
  },
  {
   "cell_type": "code",
   "execution_count": 14,
   "metadata": {},
   "outputs": [
    {
     "name": "stdout",
     "output_type": "stream",
     "text": [
      "up:: [[Achievements Overview]]\n",
      "tags:: #MindMap #PersonalInformation #Achievements #AcademicAchievements\n",
      "\n",
      "# Academic Achievements\n",
      "\n",
      "Track and showcase your academic milestones, honors, and recognitions.\n",
      "\n",
      "---\n",
      "## Conversational Example\n",
      "User: 'I recently graduated with honors. How can I add this to my achievements?'\n",
      "Talk to Eve: 'Well done on graduating with honors! You can add this to your academic profile, create a display in your personal space, or share the news with your network.'\n",
      "\n",
      "Back to [[YOU]]\n",
      "Back to [[Main Life Categories overview]]\n"
     ]
    }
   ],
   "source": [
    "print(txt_markdown[0])"
   ]
  },
  {
   "cell_type": "code",
   "execution_count": 9,
   "metadata": {},
   "outputs": [],
   "source": [
    "import re\n",
    "import pandas as pd\n",
    "\n",
    "\n",
    "def process_files(files, txt_markdown):\n",
    "    data = {'keywords': [], 'parent': [], 'description': []}\n",
    "\n",
    "    for i, content in enumerate(txt_markdown):\n",
    "        lines = content.split('\\n')\n",
    "        parent = None\n",
    "\n",
    "        for line in lines:\n",
    "            line = line.strip()\n",
    "            if line.startswith('## [['):\n",
    "                parent = files[i]\n",
    "                keyword = re.search(r'## \\[\\[(.*?)\\]\\]', line).group(1)\n",
    "                description = re.search(r'\\[\\#(.*?)\\]', line).group(1)\n",
    "                \n",
    "                data['keywords'].append(keyword)\n",
    "                data['parent'].append(parent)\n",
    "                data['description'].append(description)\n",
    "\n",
    "                parent = keyword\n",
    "            elif line.startswith('- **[['):\n",
    "                keyword = re.search(r'- \\*\\*\\[\\[(.*?)\\]\\]\\*\\*', line).group(1)\n",
    "                description = re.search(r'\\[\\#(.*?)\\]', line).group(1)\n",
    "\n",
    "                data['keywords'].append(keyword)\n",
    "                data['parent'].append(parent)\n",
    "                data['description'].append(description)\n",
    "\n",
    "                parent = keyword\n",
    "            elif line.startwith('  - **'):\n",
    "                keyword = re.search(r'  - \\*\\*(.*?)\\:\\*\\*', line).group(1)\n",
    "                description = re.search(r'\\`\\[(.*?)\\]\\`', line).group(1)\n",
    "                \n",
    "                data['keywords'].append(keyword)\n",
    "                data['parent'].append(parent)\n",
    "                data['description'].append(description)\n",
    "\n",
    "    df = pd.DataFrame(data)\n",
    "    return df"
   ]
  },
  {
   "cell_type": "code",
   "execution_count": 13,
   "metadata": {},
   "outputs": [
    {
     "ename": "AttributeError",
     "evalue": "'NoneType' object has no attribute 'group'",
     "output_type": "error",
     "traceback": [
      "\u001b[1;31m---------------------------------------------------------------------------\u001b[0m",
      "\u001b[1;31mAttributeError\u001b[0m                            Traceback (most recent call last)",
      "\u001b[1;32mc:\\Users\\Pc\\Documents\\EVE_prototype\\eve-project\\eve_project\\modules\\keywords.ipynb Cell 47\u001b[0m line \u001b[0;36m4\n\u001b[0;32m     <a href='vscode-notebook-cell:/c%3A/Users/Pc/Documents/EVE_prototype/eve-project/eve_project/modules/keywords.ipynb#X64sZmlsZQ%3D%3D?line=39'>40</a>\u001b[0m     \u001b[39mreturn\u001b[39;00m df\n\u001b[0;32m     <a href='vscode-notebook-cell:/c%3A/Users/Pc/Documents/EVE_prototype/eve-project/eve_project/modules/keywords.ipynb#X64sZmlsZQ%3D%3D?line=40'>41</a>\u001b[0m \u001b[39mimport\u001b[39;00m \u001b[39mpandas\u001b[39;00m \u001b[39mas\u001b[39;00m \u001b[39mpd\u001b[39;00m\n\u001b[1;32m---> <a href='vscode-notebook-cell:/c%3A/Users/Pc/Documents/EVE_prototype/eve-project/eve_project/modules/keywords.ipynb#X64sZmlsZQ%3D%3D?line=41'>42</a>\u001b[0m df_md \u001b[39m=\u001b[39m process_files(fil, txt_markdown)\n",
      "\u001b[1;32mc:\\Users\\Pc\\Documents\\EVE_prototype\\eve-project\\eve_project\\modules\\keywords.ipynb Cell 47\u001b[0m line \u001b[0;36m1\n\u001b[0;32m     <a href='vscode-notebook-cell:/c%3A/Users/Pc/Documents/EVE_prototype/eve-project/eve_project/modules/keywords.ipynb#X64sZmlsZQ%3D%3D?line=12'>13</a>\u001b[0m parent \u001b[39m=\u001b[39m files[i]\n\u001b[0;32m     <a href='vscode-notebook-cell:/c%3A/Users/Pc/Documents/EVE_prototype/eve-project/eve_project/modules/keywords.ipynb#X64sZmlsZQ%3D%3D?line=13'>14</a>\u001b[0m keyword \u001b[39m=\u001b[39m re\u001b[39m.\u001b[39msearch(\u001b[39mr\u001b[39m\u001b[39m'\u001b[39m\u001b[39m## \u001b[39m\u001b[39m\\\u001b[39m\u001b[39m[\u001b[39m\u001b[39m\\\u001b[39m\u001b[39m[(.*?)\u001b[39m\u001b[39m\\\u001b[39m\u001b[39m]\u001b[39m\u001b[39m\\\u001b[39m\u001b[39m]\u001b[39m\u001b[39m'\u001b[39m, line)\u001b[39m.\u001b[39mgroup(\u001b[39m1\u001b[39m)\n\u001b[1;32m---> <a href='vscode-notebook-cell:/c%3A/Users/Pc/Documents/EVE_prototype/eve-project/eve_project/modules/keywords.ipynb#X64sZmlsZQ%3D%3D?line=14'>15</a>\u001b[0m description \u001b[39m=\u001b[39m re\u001b[39m.\u001b[39;49msearch(\u001b[39mr\u001b[39;49m\u001b[39m'\u001b[39;49m\u001b[39m\\\u001b[39;49m\u001b[39m[\u001b[39;49m\u001b[39m\\\u001b[39;49m\u001b[39m#(.*?)\u001b[39;49m\u001b[39m\\\u001b[39;49m\u001b[39m]\u001b[39;49m\u001b[39m'\u001b[39;49m, line)\u001b[39m.\u001b[39;49mgroup(\u001b[39m1\u001b[39m)\n\u001b[0;32m     <a href='vscode-notebook-cell:/c%3A/Users/Pc/Documents/EVE_prototype/eve-project/eve_project/modules/keywords.ipynb#X64sZmlsZQ%3D%3D?line=16'>17</a>\u001b[0m data[\u001b[39m'\u001b[39m\u001b[39mkeywords\u001b[39m\u001b[39m'\u001b[39m]\u001b[39m.\u001b[39mappend(keyword)\n\u001b[0;32m     <a href='vscode-notebook-cell:/c%3A/Users/Pc/Documents/EVE_prototype/eve-project/eve_project/modules/keywords.ipynb#X64sZmlsZQ%3D%3D?line=17'>18</a>\u001b[0m data[\u001b[39m'\u001b[39m\u001b[39mparent\u001b[39m\u001b[39m'\u001b[39m]\u001b[39m.\u001b[39mappend(parent)\n",
      "\u001b[1;31mAttributeError\u001b[0m: 'NoneType' object has no attribute 'group'"
     ]
    }
   ],
   "source": [
    "\n",
    "\n",
    "def process_files(files, txt_markdown):\n",
    "    data = {'keywords': [], 'parent': [], 'description': []}\n",
    "\n",
    "    for i, content in enumerate(txt_markdown):\n",
    "        lines = content.split('\\n')\n",
    "        parent = None\n",
    "\n",
    "        for line in lines:\n",
    "            line = line.strip()\n",
    "            if line.startswith('## [['):\n",
    "                parent = files[i]\n",
    "                keyword = re.search(r'## \\[\\[(.*?)\\]\\]', line).group(1)\n",
    "                description = re.search(r'\\[\\#(.*?)\\]', line).group(1)\n",
    "                \n",
    "                data['keywords'].append(keyword)\n",
    "                data['parent'].append(parent)\n",
    "                data['description'].append(description)\n",
    "\n",
    "                parent = keyword\n",
    "            elif line.startswith('- **[['):\n",
    "                keyword = re.search(r'- \\*\\*\\[\\[(.*?)\\]\\]\\*\\*', line).group(1)\n",
    "                description = re.search(r'\\[\\#(.*?)\\]', line).group(1)\n",
    "\n",
    "                data['keywords'].append(keyword)\n",
    "                data['parent'].append(parent)\n",
    "                data['description'].append(description)\n",
    "\n",
    "                parent = keyword\n",
    "            elif line.startswith('  - **'):\n",
    "                keyword = re.search(r'  - \\*\\*(.*?)\\:\\*\\*', line).group(1)\n",
    "                description = re.search(r'\\`\\[(.*?)\\]\\`', line).group(1)\n",
    "                \n",
    "                data['keywords'].append(keyword)\n",
    "                data['parent'].append(parent)\n",
    "                data['description'].append(description)\n",
    "\n",
    "    df = pd.DataFrame(data)\n",
    "    return df\n",
    "import pandas as pd\n",
    "df_md = process_files(fil, txt_markdown)"
   ]
  },
  {
   "cell_type": "code",
   "execution_count": 58,
   "metadata": {},
   "outputs": [
    {
     "data": {
      "text/html": [
       "<div>\n",
       "<style scoped>\n",
       "    .dataframe tbody tr th:only-of-type {\n",
       "        vertical-align: middle;\n",
       "    }\n",
       "\n",
       "    .dataframe tbody tr th {\n",
       "        vertical-align: top;\n",
       "    }\n",
       "\n",
       "    .dataframe thead th {\n",
       "        text-align: right;\n",
       "    }\n",
       "</style>\n",
       "<table border=\"1\" class=\"dataframe\">\n",
       "  <thead>\n",
       "    <tr style=\"text-align: right;\">\n",
       "      <th></th>\n",
       "      <th>keywords</th>\n",
       "      <th>parent</th>\n",
       "      <th>description</th>\n",
       "    </tr>\n",
       "  </thead>\n",
       "  <tbody>\n",
       "  </tbody>\n",
       "</table>\n",
       "</div>"
      ],
      "text/plain": [
       "Empty DataFrame\n",
       "Columns: [keywords, parent, description]\n",
       "Index: []"
      ]
     },
     "execution_count": 58,
     "metadata": {},
     "output_type": "execute_result"
    }
   ],
   "source": [
    "df_md"
   ]
  }
 ],
 "metadata": {
  "kernelspec": {
   "display_name": "eve-project-F2_FL2MM-py3.10",
   "language": "python",
   "name": "python3"
  },
  "language_info": {
   "codemirror_mode": {
    "name": "ipython",
    "version": 3
   },
   "file_extension": ".py",
   "mimetype": "text/x-python",
   "name": "python",
   "nbconvert_exporter": "python",
   "pygments_lexer": "ipython3",
   "version": "3.10.10"
  }
 },
 "nbformat": 4,
 "nbformat_minor": 2
}
